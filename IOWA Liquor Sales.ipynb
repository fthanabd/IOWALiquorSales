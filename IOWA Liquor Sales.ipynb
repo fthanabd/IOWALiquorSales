{
  "nbformat": 4,
  "nbformat_minor": 0,
  "metadata": {
    "colab": {
      "provenance": []
    },
    "kernelspec": {
      "name": "python3",
      "display_name": "Python 3"
    },
    "language_info": {
      "name": "python"
    }
  },
  "cells": [
    {
      "cell_type": "markdown",
      "source": [
        "#A) BUSINESS QUESTION"
      ],
      "metadata": {
        "id": "qCZCCD059qjZ"
      }
    },
    {
      "cell_type": "code",
      "source": [
        "from google.colab import drive\n",
        "drive.mount('/content/drive')"
      ],
      "metadata": {
        "id": "dSiuCtMA9p1R",
        "outputId": "5ee321d5-b618-4dab-8766-60d1cf820647",
        "colab": {
          "base_uri": "https://localhost:8080/"
        }
      },
      "execution_count": null,
      "outputs": [
        {
          "output_type": "stream",
          "name": "stdout",
          "text": [
            "Mounted at /content/drive\n"
          ]
        }
      ]
    },
    {
      "cell_type": "markdown",
      "source": [
        "\n",
        "\n",
        "1. How was the trend of the number of bottles sold between January 2021 to January 2022?\n",
        "  * date\n",
        "  * bottle sold\n",
        "  * category name\n",
        "\n",
        "2. How much revenue does Iowa make from the business each month? Which product drives the most sales?\n",
        "  * date\n",
        "  * sale dollar\n",
        "  * item description\n",
        "\n",
        "3. Are there any variations among regions in terms of the most popular product?\n",
        "  * item description\n",
        "  * county\n",
        "  * bottle sold\n",
        "\n",
        "4. How many bottles will Iowa sell in the next three months?\n",
        "  * category name\n",
        "  * bottle sold\n",
        "  * date"
      ],
      "metadata": {
        "id": "DSrgmPPC9ubw"
      }
    },
    {
      "cell_type": "markdown",
      "source": [
        "#B) PROBLEM STATEMENT"
      ],
      "metadata": {
        "id": "RE7ir7tO9NT3"
      }
    },
    {
      "cell_type": "markdown",
      "source": [
        "1. How was the trend of the number of bottles sold between January 2021 to January 2022?\n",
        "2. How much revenue does Iowa make from the business each month? Which product drives the most sales?\n",
        "3. Are there any variations among regions in terms of the most popular product?\n",
        "4. How many bottles will Iowa sell in the next three months?"
      ],
      "metadata": {
        "id": "396VS7z89Ygs"
      }
    },
    {
      "cell_type": "markdown",
      "source": [
        "#C) DATA DICTIONARIES"
      ],
      "metadata": {
        "id": "gxrlyU9zUax3"
      }
    },
    {
      "cell_type": "markdown",
      "source": [
        "1)** invoice_and_item_number**: concatenated invoice and line number associated with the liquor order. This provides a unique identifier for the individual liquor products included in the store order.\n",
        "\n",
        "2) **date**: date of order.\n",
        "\n",
        "3) **store_number**: unique number assigned to the store who ordered the liquor.\n",
        "\n",
        "4) **store_name**: name of store who ordered the liquor.\n",
        "\n",
        "5) **address**: address of store who ordered the liquor.\n",
        "\n",
        "6) **city**: city where the store who ordered the liquor is located.\n",
        "\n",
        "7) **zip_code**: zip code where the store who ordered the liquor is located.\n",
        "\n",
        "8) **store_location**: location of store who ordered the liquor. The address, city,\n",
        "state and zip code are geocoded to provide geographic coordinates.\n",
        "\n",
        "9) **county_number**: iowa county number for the county where store who ordered the liquor is located.\n",
        "\n",
        "10) **county**: county where the store who ordered the liquor is located.\n",
        "\n",
        "11) **category**: category code associated with the liquor ordered.\n",
        "\n",
        "12) **category_name**: category of the liquor ordered.\n",
        "\n",
        "13) **vendor_number**: the vendor number of the company for the brand of liquor ordered.\n",
        "\n",
        "14) **vendor_name**: the vendor name of the company for the brand of liquor ordered.\n",
        "\n",
        "15) **item_number**: item number for the individual liquor product ordered.\n",
        "\n",
        "16) **item_description**: description of the individual liquor product ordered.\n",
        "\n",
        "17) **pack**: the number of bottles in a case for the liquor ordered.\n",
        "\n",
        "18) **bottle_volume_ml**: volume of each liquor bottle ordered in milliliters.\n",
        "\n",
        "19) **state_bottle_cost**: the amount that alcoholic beverages division paid for each bottle of liquor ordered.\n",
        "\n",
        "20) **state_bottle_retail**: the amount the store paid for each bottle of liquor ordered.\n",
        "\n",
        "21) **bottles_sold**: the number of bottles of liquor ordered by the store.\n",
        "\n",
        "22) **sale_dollars**: total cost of liquor order (number of bottles multiplied by the state bottle retail).\n",
        "\n",
        "23) **volume_sold_liters**: total volume of liquor ordered in liters. (i.e. (bottle volume (ml) x bottles sold)/1,000).\n",
        "\n",
        "24) **volume_sold_gallons**: total volume of liquor ordered in gallons. (i.e. (bottle volume (ml) x bottles sold)/3785.411784)."
      ],
      "metadata": {
        "id": "tI9uxGf_UB_o"
      }
    },
    {
      "cell_type": "markdown",
      "source": [
        "#D) RAW DATA PREPARATION"
      ],
      "metadata": {
        "id": "PI75iVkEU4yf"
      }
    },
    {
      "cell_type": "code",
      "execution_count": null,
      "metadata": {
        "id": "Y0S2rLY3F6lm"
      },
      "outputs": [],
      "source": [
        "!pip install -q kaggle"
      ]
    },
    {
      "cell_type": "code",
      "source": [
        "!mkdir ~/.kaggle"
      ],
      "metadata": {
        "id": "78Y1h8CpGszM",
        "colab": {
          "base_uri": "https://localhost:8080/"
        },
        "outputId": "15c0a989-e313-4c8d-9e06-1d266d4d56aa"
      },
      "execution_count": null,
      "outputs": [
        {
          "output_type": "stream",
          "name": "stdout",
          "text": [
            "mkdir: cannot create directory ‘/root/.kaggle’: File exists\n"
          ]
        }
      ]
    },
    {
      "cell_type": "code",
      "source": [
        "!cp kaggle.json ~/.kaggle"
      ],
      "metadata": {
        "id": "I72ZWoSwGueP"
      },
      "execution_count": null,
      "outputs": []
    },
    {
      "cell_type": "code",
      "source": [
        "!chmod 600 ~/.kaggle/kaggle.json"
      ],
      "metadata": {
        "id": "HB5Mor09HSgV"
      },
      "execution_count": null,
      "outputs": []
    },
    {
      "cell_type": "code",
      "source": [
        "!kaggle datasets list"
      ],
      "metadata": {
        "id": "xfpGOZ3THoT4",
        "colab": {
          "base_uri": "https://localhost:8080/"
        },
        "outputId": "9059aec4-682a-444a-e7a6-c3dd0cba0e5a"
      },
      "execution_count": null,
      "outputs": [
        {
          "output_type": "stream",
          "name": "stdout",
          "text": [
            "ref                                                                   title                                                size  lastUpdated          downloadCount  voteCount  usabilityRating  \n",
            "--------------------------------------------------------------------  --------------------------------------------------  -----  -------------------  -------------  ---------  ---------------  \n",
            "arnabchaki/data-science-salaries-2023                                 Data Science Salaries 2023 💸                         25KB  2023-04-13 09:55:16          37245       1049  1.0              \n",
            "tawfikelmetwally/automobile-dataset                                   Car information dataset                               6KB  2023-05-28 18:26:48           5835        153  0.9411765        \n",
            "fatihb/coffee-quality-data-cqi                                        Coffee Quality Data (CQI May-2023)                   22KB  2023-05-12 13:06:39           7595        161  1.0              \n",
            "mohithsairamreddy/salary-data                                         Salary_Data                                          17KB  2023-05-18 14:05:19           8230        162  0.88235295       \n",
            "mauryansshivam/netflix-ott-revenue-and-subscribers-csv-file           Netflix OTT Revenue and Subscribers (CSV File)        2KB  2023-05-13 17:40:23           3830         82  1.0              \n",
            "omarsobhy14/mcdonalds-revenue                                         🍟💰From Flipping Burgers to Billions: McDonald's      565B  2023-06-01 23:22:49            916         39  1.0              \n",
            "drahulsingh/list-of-best-selling-ps4-games                            List of best-selling PlayStation 4 video games        2KB  2023-06-11 17:36:59           1184         38  1.0              \n",
            "validmodel/bigbasket-customer-analytics                               Bigbasket Customer Analytics                        650KB  2023-06-24 09:07:35            694         29  1.0              \n",
            "zsinghrahulk/rice-pest-and-diseases                                   Rice - Pest and Diseases                            312KB  2023-06-01 08:57:29           1106         35  1.0              \n",
            "iammustafatz/diabetes-prediction-dataset                              Diabetes prediction dataset                         734KB  2023-04-08 06:11:45          19451        276  1.0              \n",
            "nelgiriyewithana/mcdonalds-store-reviews                              McDonald's Store Reviews                              2MB  2023-06-19 08:46:00            836         32  1.0              \n",
            "vstacknocopyright/fruit-and-vegetable-prices                          Fruit and Vegetable Prices                            1KB  2023-06-02 06:17:43           1678         50  0.7647059        \n",
            "goyaladi/iit-admissions-dataset                                       IIT Admissions Dataset - 200,000 Students             5MB  2023-06-16 09:31:48           1513         38  1.0              \n",
            "bhanupratapbiswas/world-happiness-2016                                World Happiness 2016 😊                                7KB  2023-06-20 08:50:02            375         27  1.0              \n",
            "bilalwaseer/microsoft-stocks-from-1986-to-2023                        Microsoft Stocks from 1986 to 2023                  120KB  2023-05-16 10:07:28           1455         40  1.0              \n",
            "darshanprabhu09/stock-prices-for                                      Stock prices of Amazon , Microsoft , Google, Apple   85KB  2023-05-16 15:17:16           2654         59  1.0              \n",
            "rajkumarpandey02/2023-world-population-by-country                      World Population by Country                         38KB  2023-06-01 06:10:41           3337         68  1.0              \n",
            "danishjmeo/karachi-housing-prices-2023                                Karachi_Housing_Prices_2023                           1MB  2023-06-01 07:08:13            693         31  0.9411765        \n",
            "adityaramachandran27/world-air-quality-index-by-city-and-coordinates  World Air Quality Index by City and Coordinates     372KB  2023-05-07 07:29:26           2838         59  1.0              \n",
            "dansbecker/melbourne-housing-snapshot                                 Melbourne Housing Snapshot                          451KB  2018-06-05 12:52:24         119047       1289  0.7058824        \n"
          ]
        }
      ]
    },
    {
      "cell_type": "code",
      "source": [
        "!kaggle datasets download -d 'gabrielramos87/iowa-sales-liquor-jan-2021jan-2022'"
      ],
      "metadata": {
        "id": "H0zRDh_LIHch",
        "colab": {
          "base_uri": "https://localhost:8080/"
        },
        "outputId": "91bb0fa9-8131-43ec-f545-9d484ef8726e"
      },
      "execution_count": null,
      "outputs": [
        {
          "output_type": "stream",
          "name": "stdout",
          "text": [
            "Downloading iowa-sales-liquor-jan-2021jan-2022.zip to /content\n",
            "100% 129M/129M [00:06<00:00, 27.2MB/s]\n",
            "100% 129M/129M [00:06<00:00, 21.3MB/s]\n"
          ]
        }
      ]
    },
    {
      "cell_type": "code",
      "source": [
        "import zipfile"
      ],
      "metadata": {
        "id": "9it3253tJm5n"
      },
      "execution_count": null,
      "outputs": []
    },
    {
      "cell_type": "code",
      "source": [
        "dataset_zip = zipfile.ZipFile('iowa-sales-liquor-jan-2021jan-2022.zip','r')\n",
        "\n",
        "dataset_zip.extractall()\n",
        "\n",
        "dataset_zip.close()"
      ],
      "metadata": {
        "id": "S-rZry9sJn3k"
      },
      "execution_count": null,
      "outputs": []
    },
    {
      "cell_type": "code",
      "source": [
        "import pandas as pd\n",
        "import numpy as np\n",
        "from datetime import datetime\n",
        "import seaborn as sns\n",
        "import matplotlib.pyplot as plt\n",
        "from sklearn.cluster import KMeans                                             # to perform the k-means algorithm\n",
        "from sklearn.preprocessing import MinMaxScaler,StandardScaler,RobustScaler     # to sacalling different attribute\n",
        "from sklearn import cluster                                                    # for machine learning and statistical modelling (we use it for clustering)\n",
        "\n",
        "import matplotlib.cm as cm                                                     # provide a large set of colormaps(cm)\n",
        "from sklearn.metrics import silhouette_samples, silhouette_score               # for perform silhoutte analysis\n",
        "from sklearn.datasets import make_blobs\n",
        "from statsmodels.graphics.tsaplots import plot_acf,plot_pacf\n",
        "from statsmodels.tsa.stattools import adfuller\n",
        "from statsmodels.tsa.statespace.sarimax import SARIMAX"
      ],
      "metadata": {
        "id": "m432myflKyjC"
      },
      "execution_count": null,
      "outputs": []
    },
    {
      "cell_type": "code",
      "source": [
        "# Show dataset head named it as df_ori\n",
        "pd.read_csv('/content/Iowa Liquor Sales (Jan 2021-Jan 2022).csv')\n",
        "df_ori = pd.read_csv('/content/Iowa Liquor Sales (Jan 2021-Jan 2022).csv')\n",
        "df_ori.head()"
      ],
      "metadata": {
        "id": "4pUbrgkrRki1",
        "colab": {
          "base_uri": "https://localhost:8080/",
          "height": 490
        },
        "outputId": "5b8cd86b-b476-41b3-ea27-efdac04f37f6"
      },
      "execution_count": null,
      "outputs": [
        {
          "output_type": "execute_result",
          "data": {
            "text/plain": [
              "  invoice_and_item_number        date  store_number  \\\n",
              "0         INV-33179700135  2021-01-04          2576   \n",
              "1         INV-33196200106  2021-01-04          2649   \n",
              "2         INV-33184300011  2021-01-04          2539   \n",
              "3         INV-33184100015  2021-01-04          4024   \n",
              "4         INV-33174200025  2021-01-04          5385   \n",
              "\n",
              "                             store_name         address             city  \\\n",
              "0  Hy-Vee Wine and Spirits / Storm Lake  1250 N Lake St       Storm Lake   \n",
              "1                   Hy-Vee #3 / Dubuque   400 Locust St          Dubuque   \n",
              "2        Hy-Vee Food Store / Iowa Falls      640 S. Oak       Iowa Falls   \n",
              "3            Wal-Mart 1546 / Iowa Falls       840 S Oak       Iowa Falls   \n",
              "4                    Vine Food & Liquor   2704 Vine St.  West Des Moines   \n",
              "\n",
              "   zip_code                        store_location  county_number      county  \\\n",
              "0   50588.0  POINT (-95.200758 42.65318400000001)           11.0  BUENA VIST   \n",
              "1   52001.0  POINT (-90.666497 42.49721900000001)           31.0     DUBUQUE   \n",
              "2   50126.0          POINT (-93.262364 42.508752)           42.0      HARDIN   \n",
              "3   50126.0          POINT (-93.262446 42.503407)           42.0      HARDIN   \n",
              "4   50265.0          POINT (-93.741511 41.580206)           77.0        POLK   \n",
              "\n",
              "   ...  item_number           item_description  pack bottle_volume_ml  \\\n",
              "0  ...        64870  Fireball Cinnamon Whiskey    48              100   \n",
              "1  ...        65200       Tequila Rose Liqueur    12              750   \n",
              "2  ...        38008         Smirnoff 80prf PET     6             1750   \n",
              "3  ...        36648              Caliber Vodka    12              750   \n",
              "4  ...         4626       Buchanan Deluxe 12YR    12              750   \n",
              "\n",
              "   state_bottle_cost state_bottle_retail  bottles_sold  sale_dollars  \\\n",
              "0               0.90                1.35            48         64.80   \n",
              "1              11.50               17.25             4         69.00   \n",
              "2              14.75               22.13             6        132.78   \n",
              "3               3.31                4.97            12         59.64   \n",
              "4              20.99               31.49             2         62.98   \n",
              "\n",
              "   volume_sold_liters  volume_sold_gallons  \n",
              "0                 4.8                 1.26  \n",
              "1                 3.0                 0.79  \n",
              "2                10.5                 2.77  \n",
              "3                 9.0                 2.37  \n",
              "4                 1.5                 0.39  \n",
              "\n",
              "[5 rows x 24 columns]"
            ],
            "text/html": [
              "\n",
              "  <div id=\"df-6f00e51e-e791-41a8-825c-1906ba396ef5\">\n",
              "    <div class=\"colab-df-container\">\n",
              "      <div>\n",
              "<style scoped>\n",
              "    .dataframe tbody tr th:only-of-type {\n",
              "        vertical-align: middle;\n",
              "    }\n",
              "\n",
              "    .dataframe tbody tr th {\n",
              "        vertical-align: top;\n",
              "    }\n",
              "\n",
              "    .dataframe thead th {\n",
              "        text-align: right;\n",
              "    }\n",
              "</style>\n",
              "<table border=\"1\" class=\"dataframe\">\n",
              "  <thead>\n",
              "    <tr style=\"text-align: right;\">\n",
              "      <th></th>\n",
              "      <th>invoice_and_item_number</th>\n",
              "      <th>date</th>\n",
              "      <th>store_number</th>\n",
              "      <th>store_name</th>\n",
              "      <th>address</th>\n",
              "      <th>city</th>\n",
              "      <th>zip_code</th>\n",
              "      <th>store_location</th>\n",
              "      <th>county_number</th>\n",
              "      <th>county</th>\n",
              "      <th>...</th>\n",
              "      <th>item_number</th>\n",
              "      <th>item_description</th>\n",
              "      <th>pack</th>\n",
              "      <th>bottle_volume_ml</th>\n",
              "      <th>state_bottle_cost</th>\n",
              "      <th>state_bottle_retail</th>\n",
              "      <th>bottles_sold</th>\n",
              "      <th>sale_dollars</th>\n",
              "      <th>volume_sold_liters</th>\n",
              "      <th>volume_sold_gallons</th>\n",
              "    </tr>\n",
              "  </thead>\n",
              "  <tbody>\n",
              "    <tr>\n",
              "      <th>0</th>\n",
              "      <td>INV-33179700135</td>\n",
              "      <td>2021-01-04</td>\n",
              "      <td>2576</td>\n",
              "      <td>Hy-Vee Wine and Spirits / Storm Lake</td>\n",
              "      <td>1250 N Lake St</td>\n",
              "      <td>Storm Lake</td>\n",
              "      <td>50588.0</td>\n",
              "      <td>POINT (-95.200758 42.65318400000001)</td>\n",
              "      <td>11.0</td>\n",
              "      <td>BUENA VIST</td>\n",
              "      <td>...</td>\n",
              "      <td>64870</td>\n",
              "      <td>Fireball Cinnamon Whiskey</td>\n",
              "      <td>48</td>\n",
              "      <td>100</td>\n",
              "      <td>0.90</td>\n",
              "      <td>1.35</td>\n",
              "      <td>48</td>\n",
              "      <td>64.80</td>\n",
              "      <td>4.8</td>\n",
              "      <td>1.26</td>\n",
              "    </tr>\n",
              "    <tr>\n",
              "      <th>1</th>\n",
              "      <td>INV-33196200106</td>\n",
              "      <td>2021-01-04</td>\n",
              "      <td>2649</td>\n",
              "      <td>Hy-Vee #3 / Dubuque</td>\n",
              "      <td>400 Locust St</td>\n",
              "      <td>Dubuque</td>\n",
              "      <td>52001.0</td>\n",
              "      <td>POINT (-90.666497 42.49721900000001)</td>\n",
              "      <td>31.0</td>\n",
              "      <td>DUBUQUE</td>\n",
              "      <td>...</td>\n",
              "      <td>65200</td>\n",
              "      <td>Tequila Rose Liqueur</td>\n",
              "      <td>12</td>\n",
              "      <td>750</td>\n",
              "      <td>11.50</td>\n",
              "      <td>17.25</td>\n",
              "      <td>4</td>\n",
              "      <td>69.00</td>\n",
              "      <td>3.0</td>\n",
              "      <td>0.79</td>\n",
              "    </tr>\n",
              "    <tr>\n",
              "      <th>2</th>\n",
              "      <td>INV-33184300011</td>\n",
              "      <td>2021-01-04</td>\n",
              "      <td>2539</td>\n",
              "      <td>Hy-Vee Food Store / Iowa Falls</td>\n",
              "      <td>640 S. Oak</td>\n",
              "      <td>Iowa Falls</td>\n",
              "      <td>50126.0</td>\n",
              "      <td>POINT (-93.262364 42.508752)</td>\n",
              "      <td>42.0</td>\n",
              "      <td>HARDIN</td>\n",
              "      <td>...</td>\n",
              "      <td>38008</td>\n",
              "      <td>Smirnoff 80prf PET</td>\n",
              "      <td>6</td>\n",
              "      <td>1750</td>\n",
              "      <td>14.75</td>\n",
              "      <td>22.13</td>\n",
              "      <td>6</td>\n",
              "      <td>132.78</td>\n",
              "      <td>10.5</td>\n",
              "      <td>2.77</td>\n",
              "    </tr>\n",
              "    <tr>\n",
              "      <th>3</th>\n",
              "      <td>INV-33184100015</td>\n",
              "      <td>2021-01-04</td>\n",
              "      <td>4024</td>\n",
              "      <td>Wal-Mart 1546 / Iowa Falls</td>\n",
              "      <td>840 S Oak</td>\n",
              "      <td>Iowa Falls</td>\n",
              "      <td>50126.0</td>\n",
              "      <td>POINT (-93.262446 42.503407)</td>\n",
              "      <td>42.0</td>\n",
              "      <td>HARDIN</td>\n",
              "      <td>...</td>\n",
              "      <td>36648</td>\n",
              "      <td>Caliber Vodka</td>\n",
              "      <td>12</td>\n",
              "      <td>750</td>\n",
              "      <td>3.31</td>\n",
              "      <td>4.97</td>\n",
              "      <td>12</td>\n",
              "      <td>59.64</td>\n",
              "      <td>9.0</td>\n",
              "      <td>2.37</td>\n",
              "    </tr>\n",
              "    <tr>\n",
              "      <th>4</th>\n",
              "      <td>INV-33174200025</td>\n",
              "      <td>2021-01-04</td>\n",
              "      <td>5385</td>\n",
              "      <td>Vine Food &amp; Liquor</td>\n",
              "      <td>2704 Vine St.</td>\n",
              "      <td>West Des Moines</td>\n",
              "      <td>50265.0</td>\n",
              "      <td>POINT (-93.741511 41.580206)</td>\n",
              "      <td>77.0</td>\n",
              "      <td>POLK</td>\n",
              "      <td>...</td>\n",
              "      <td>4626</td>\n",
              "      <td>Buchanan Deluxe 12YR</td>\n",
              "      <td>12</td>\n",
              "      <td>750</td>\n",
              "      <td>20.99</td>\n",
              "      <td>31.49</td>\n",
              "      <td>2</td>\n",
              "      <td>62.98</td>\n",
              "      <td>1.5</td>\n",
              "      <td>0.39</td>\n",
              "    </tr>\n",
              "  </tbody>\n",
              "</table>\n",
              "<p>5 rows × 24 columns</p>\n",
              "</div>\n",
              "      <button class=\"colab-df-convert\" onclick=\"convertToInteractive('df-6f00e51e-e791-41a8-825c-1906ba396ef5')\"\n",
              "              title=\"Convert this dataframe to an interactive table.\"\n",
              "              style=\"display:none;\">\n",
              "        \n",
              "  <svg xmlns=\"http://www.w3.org/2000/svg\" height=\"24px\"viewBox=\"0 0 24 24\"\n",
              "       width=\"24px\">\n",
              "    <path d=\"M0 0h24v24H0V0z\" fill=\"none\"/>\n",
              "    <path d=\"M18.56 5.44l.94 2.06.94-2.06 2.06-.94-2.06-.94-.94-2.06-.94 2.06-2.06.94zm-11 1L8.5 8.5l.94-2.06 2.06-.94-2.06-.94L8.5 2.5l-.94 2.06-2.06.94zm10 10l.94 2.06.94-2.06 2.06-.94-2.06-.94-.94-2.06-.94 2.06-2.06.94z\"/><path d=\"M17.41 7.96l-1.37-1.37c-.4-.4-.92-.59-1.43-.59-.52 0-1.04.2-1.43.59L10.3 9.45l-7.72 7.72c-.78.78-.78 2.05 0 2.83L4 21.41c.39.39.9.59 1.41.59.51 0 1.02-.2 1.41-.59l7.78-7.78 2.81-2.81c.8-.78.8-2.07 0-2.86zM5.41 20L4 18.59l7.72-7.72 1.47 1.35L5.41 20z\"/>\n",
              "  </svg>\n",
              "      </button>\n",
              "      \n",
              "  <style>\n",
              "    .colab-df-container {\n",
              "      display:flex;\n",
              "      flex-wrap:wrap;\n",
              "      gap: 12px;\n",
              "    }\n",
              "\n",
              "    .colab-df-convert {\n",
              "      background-color: #E8F0FE;\n",
              "      border: none;\n",
              "      border-radius: 50%;\n",
              "      cursor: pointer;\n",
              "      display: none;\n",
              "      fill: #1967D2;\n",
              "      height: 32px;\n",
              "      padding: 0 0 0 0;\n",
              "      width: 32px;\n",
              "    }\n",
              "\n",
              "    .colab-df-convert:hover {\n",
              "      background-color: #E2EBFA;\n",
              "      box-shadow: 0px 1px 2px rgba(60, 64, 67, 0.3), 0px 1px 3px 1px rgba(60, 64, 67, 0.15);\n",
              "      fill: #174EA6;\n",
              "    }\n",
              "\n",
              "    [theme=dark] .colab-df-convert {\n",
              "      background-color: #3B4455;\n",
              "      fill: #D2E3FC;\n",
              "    }\n",
              "\n",
              "    [theme=dark] .colab-df-convert:hover {\n",
              "      background-color: #434B5C;\n",
              "      box-shadow: 0px 1px 3px 1px rgba(0, 0, 0, 0.15);\n",
              "      filter: drop-shadow(0px 1px 2px rgba(0, 0, 0, 0.3));\n",
              "      fill: #FFFFFF;\n",
              "    }\n",
              "  </style>\n",
              "\n",
              "      <script>\n",
              "        const buttonEl =\n",
              "          document.querySelector('#df-6f00e51e-e791-41a8-825c-1906ba396ef5 button.colab-df-convert');\n",
              "        buttonEl.style.display =\n",
              "          google.colab.kernel.accessAllowed ? 'block' : 'none';\n",
              "\n",
              "        async function convertToInteractive(key) {\n",
              "          const element = document.querySelector('#df-6f00e51e-e791-41a8-825c-1906ba396ef5');\n",
              "          const dataTable =\n",
              "            await google.colab.kernel.invokeFunction('convertToInteractive',\n",
              "                                                     [key], {});\n",
              "          if (!dataTable) return;\n",
              "\n",
              "          const docLinkHtml = 'Like what you see? Visit the ' +\n",
              "            '<a target=\"_blank\" href=https://colab.research.google.com/notebooks/data_table.ipynb>data table notebook</a>'\n",
              "            + ' to learn more about interactive tables.';\n",
              "          element.innerHTML = '';\n",
              "          dataTable['output_type'] = 'display_data';\n",
              "          await google.colab.output.renderOutput(dataTable, element);\n",
              "          const docLink = document.createElement('div');\n",
              "          docLink.innerHTML = docLinkHtml;\n",
              "          element.appendChild(docLink);\n",
              "        }\n",
              "      </script>\n",
              "    </div>\n",
              "  </div>\n",
              "  "
            ]
          },
          "metadata": {},
          "execution_count": 19
        }
      ]
    },
    {
      "cell_type": "code",
      "source": [
        "df_ori.info()\n",
        "df_ori.shape"
      ],
      "metadata": {
        "id": "zlPhzPvgSV06",
        "colab": {
          "base_uri": "https://localhost:8080/"
        },
        "outputId": "089b3dca-ab23-408e-fd76-4a30785fdc3a"
      },
      "execution_count": null,
      "outputs": [
        {
          "output_type": "stream",
          "name": "stdout",
          "text": [
            "<class 'pandas.core.frame.DataFrame'>\n",
            "RangeIndex: 2805307 entries, 0 to 2805306\n",
            "Data columns (total 24 columns):\n",
            " #   Column                   Dtype  \n",
            "---  ------                   -----  \n",
            " 0   invoice_and_item_number  object \n",
            " 1   date                     object \n",
            " 2   store_number             int64  \n",
            " 3   store_name               object \n",
            " 4   address                  object \n",
            " 5   city                     object \n",
            " 6   zip_code                 float64\n",
            " 7   store_location           object \n",
            " 8   county_number            float64\n",
            " 9   county                   object \n",
            " 10  category                 float64\n",
            " 11  category_name            object \n",
            " 12  vendor_number            float64\n",
            " 13  vendor_name              object \n",
            " 14  item_number              int64  \n",
            " 15  item_description         object \n",
            " 16  pack                     int64  \n",
            " 17  bottle_volume_ml         int64  \n",
            " 18  state_bottle_cost        float64\n",
            " 19  state_bottle_retail      float64\n",
            " 20  bottles_sold             int64  \n",
            " 21  sale_dollars             float64\n",
            " 22  volume_sold_liters       float64\n",
            " 23  volume_sold_gallons      float64\n",
            "dtypes: float64(9), int64(5), object(10)\n",
            "memory usage: 513.7+ MB\n"
          ]
        },
        {
          "output_type": "execute_result",
          "data": {
            "text/plain": [
              "(2805307, 24)"
            ]
          },
          "metadata": {},
          "execution_count": 20
        }
      ]
    },
    {
      "cell_type": "markdown",
      "source": [
        "#E) DATA CLEANING"
      ],
      "metadata": {
        "id": "tAYmLRTwWQN4"
      }
    },
    {
      "cell_type": "markdown",
      "source": [
        "## Data Types and Shape"
      ],
      "metadata": {
        "id": "8GBlooEFWGiC"
      }
    },
    {
      "cell_type": "code",
      "source": [
        "df_dc = df_ori.copy()\n",
        "df_dc.head()"
      ],
      "metadata": {
        "id": "aBdqMWg2UMkQ",
        "colab": {
          "base_uri": "https://localhost:8080/",
          "height": 490
        },
        "outputId": "08e9cb5e-dbf4-4b44-e657-08793041a703"
      },
      "execution_count": null,
      "outputs": [
        {
          "output_type": "execute_result",
          "data": {
            "text/plain": [
              "  invoice_and_item_number        date  store_number  \\\n",
              "0         INV-33179700135  2021-01-04          2576   \n",
              "1         INV-33196200106  2021-01-04          2649   \n",
              "2         INV-33184300011  2021-01-04          2539   \n",
              "3         INV-33184100015  2021-01-04          4024   \n",
              "4         INV-33174200025  2021-01-04          5385   \n",
              "\n",
              "                             store_name         address             city  \\\n",
              "0  Hy-Vee Wine and Spirits / Storm Lake  1250 N Lake St       Storm Lake   \n",
              "1                   Hy-Vee #3 / Dubuque   400 Locust St          Dubuque   \n",
              "2        Hy-Vee Food Store / Iowa Falls      640 S. Oak       Iowa Falls   \n",
              "3            Wal-Mart 1546 / Iowa Falls       840 S Oak       Iowa Falls   \n",
              "4                    Vine Food & Liquor   2704 Vine St.  West Des Moines   \n",
              "\n",
              "   zip_code                        store_location  county_number      county  \\\n",
              "0   50588.0  POINT (-95.200758 42.65318400000001)           11.0  BUENA VIST   \n",
              "1   52001.0  POINT (-90.666497 42.49721900000001)           31.0     DUBUQUE   \n",
              "2   50126.0          POINT (-93.262364 42.508752)           42.0      HARDIN   \n",
              "3   50126.0          POINT (-93.262446 42.503407)           42.0      HARDIN   \n",
              "4   50265.0          POINT (-93.741511 41.580206)           77.0        POLK   \n",
              "\n",
              "   ...  item_number           item_description  pack bottle_volume_ml  \\\n",
              "0  ...        64870  Fireball Cinnamon Whiskey    48              100   \n",
              "1  ...        65200       Tequila Rose Liqueur    12              750   \n",
              "2  ...        38008         Smirnoff 80prf PET     6             1750   \n",
              "3  ...        36648              Caliber Vodka    12              750   \n",
              "4  ...         4626       Buchanan Deluxe 12YR    12              750   \n",
              "\n",
              "   state_bottle_cost state_bottle_retail  bottles_sold  sale_dollars  \\\n",
              "0               0.90                1.35            48         64.80   \n",
              "1              11.50               17.25             4         69.00   \n",
              "2              14.75               22.13             6        132.78   \n",
              "3               3.31                4.97            12         59.64   \n",
              "4              20.99               31.49             2         62.98   \n",
              "\n",
              "   volume_sold_liters  volume_sold_gallons  \n",
              "0                 4.8                 1.26  \n",
              "1                 3.0                 0.79  \n",
              "2                10.5                 2.77  \n",
              "3                 9.0                 2.37  \n",
              "4                 1.5                 0.39  \n",
              "\n",
              "[5 rows x 24 columns]"
            ],
            "text/html": [
              "\n",
              "  <div id=\"df-e5b69f19-fd7a-4410-917d-b891398e094a\">\n",
              "    <div class=\"colab-df-container\">\n",
              "      <div>\n",
              "<style scoped>\n",
              "    .dataframe tbody tr th:only-of-type {\n",
              "        vertical-align: middle;\n",
              "    }\n",
              "\n",
              "    .dataframe tbody tr th {\n",
              "        vertical-align: top;\n",
              "    }\n",
              "\n",
              "    .dataframe thead th {\n",
              "        text-align: right;\n",
              "    }\n",
              "</style>\n",
              "<table border=\"1\" class=\"dataframe\">\n",
              "  <thead>\n",
              "    <tr style=\"text-align: right;\">\n",
              "      <th></th>\n",
              "      <th>invoice_and_item_number</th>\n",
              "      <th>date</th>\n",
              "      <th>store_number</th>\n",
              "      <th>store_name</th>\n",
              "      <th>address</th>\n",
              "      <th>city</th>\n",
              "      <th>zip_code</th>\n",
              "      <th>store_location</th>\n",
              "      <th>county_number</th>\n",
              "      <th>county</th>\n",
              "      <th>...</th>\n",
              "      <th>item_number</th>\n",
              "      <th>item_description</th>\n",
              "      <th>pack</th>\n",
              "      <th>bottle_volume_ml</th>\n",
              "      <th>state_bottle_cost</th>\n",
              "      <th>state_bottle_retail</th>\n",
              "      <th>bottles_sold</th>\n",
              "      <th>sale_dollars</th>\n",
              "      <th>volume_sold_liters</th>\n",
              "      <th>volume_sold_gallons</th>\n",
              "    </tr>\n",
              "  </thead>\n",
              "  <tbody>\n",
              "    <tr>\n",
              "      <th>0</th>\n",
              "      <td>INV-33179700135</td>\n",
              "      <td>2021-01-04</td>\n",
              "      <td>2576</td>\n",
              "      <td>Hy-Vee Wine and Spirits / Storm Lake</td>\n",
              "      <td>1250 N Lake St</td>\n",
              "      <td>Storm Lake</td>\n",
              "      <td>50588.0</td>\n",
              "      <td>POINT (-95.200758 42.65318400000001)</td>\n",
              "      <td>11.0</td>\n",
              "      <td>BUENA VIST</td>\n",
              "      <td>...</td>\n",
              "      <td>64870</td>\n",
              "      <td>Fireball Cinnamon Whiskey</td>\n",
              "      <td>48</td>\n",
              "      <td>100</td>\n",
              "      <td>0.90</td>\n",
              "      <td>1.35</td>\n",
              "      <td>48</td>\n",
              "      <td>64.80</td>\n",
              "      <td>4.8</td>\n",
              "      <td>1.26</td>\n",
              "    </tr>\n",
              "    <tr>\n",
              "      <th>1</th>\n",
              "      <td>INV-33196200106</td>\n",
              "      <td>2021-01-04</td>\n",
              "      <td>2649</td>\n",
              "      <td>Hy-Vee #3 / Dubuque</td>\n",
              "      <td>400 Locust St</td>\n",
              "      <td>Dubuque</td>\n",
              "      <td>52001.0</td>\n",
              "      <td>POINT (-90.666497 42.49721900000001)</td>\n",
              "      <td>31.0</td>\n",
              "      <td>DUBUQUE</td>\n",
              "      <td>...</td>\n",
              "      <td>65200</td>\n",
              "      <td>Tequila Rose Liqueur</td>\n",
              "      <td>12</td>\n",
              "      <td>750</td>\n",
              "      <td>11.50</td>\n",
              "      <td>17.25</td>\n",
              "      <td>4</td>\n",
              "      <td>69.00</td>\n",
              "      <td>3.0</td>\n",
              "      <td>0.79</td>\n",
              "    </tr>\n",
              "    <tr>\n",
              "      <th>2</th>\n",
              "      <td>INV-33184300011</td>\n",
              "      <td>2021-01-04</td>\n",
              "      <td>2539</td>\n",
              "      <td>Hy-Vee Food Store / Iowa Falls</td>\n",
              "      <td>640 S. Oak</td>\n",
              "      <td>Iowa Falls</td>\n",
              "      <td>50126.0</td>\n",
              "      <td>POINT (-93.262364 42.508752)</td>\n",
              "      <td>42.0</td>\n",
              "      <td>HARDIN</td>\n",
              "      <td>...</td>\n",
              "      <td>38008</td>\n",
              "      <td>Smirnoff 80prf PET</td>\n",
              "      <td>6</td>\n",
              "      <td>1750</td>\n",
              "      <td>14.75</td>\n",
              "      <td>22.13</td>\n",
              "      <td>6</td>\n",
              "      <td>132.78</td>\n",
              "      <td>10.5</td>\n",
              "      <td>2.77</td>\n",
              "    </tr>\n",
              "    <tr>\n",
              "      <th>3</th>\n",
              "      <td>INV-33184100015</td>\n",
              "      <td>2021-01-04</td>\n",
              "      <td>4024</td>\n",
              "      <td>Wal-Mart 1546 / Iowa Falls</td>\n",
              "      <td>840 S Oak</td>\n",
              "      <td>Iowa Falls</td>\n",
              "      <td>50126.0</td>\n",
              "      <td>POINT (-93.262446 42.503407)</td>\n",
              "      <td>42.0</td>\n",
              "      <td>HARDIN</td>\n",
              "      <td>...</td>\n",
              "      <td>36648</td>\n",
              "      <td>Caliber Vodka</td>\n",
              "      <td>12</td>\n",
              "      <td>750</td>\n",
              "      <td>3.31</td>\n",
              "      <td>4.97</td>\n",
              "      <td>12</td>\n",
              "      <td>59.64</td>\n",
              "      <td>9.0</td>\n",
              "      <td>2.37</td>\n",
              "    </tr>\n",
              "    <tr>\n",
              "      <th>4</th>\n",
              "      <td>INV-33174200025</td>\n",
              "      <td>2021-01-04</td>\n",
              "      <td>5385</td>\n",
              "      <td>Vine Food &amp; Liquor</td>\n",
              "      <td>2704 Vine St.</td>\n",
              "      <td>West Des Moines</td>\n",
              "      <td>50265.0</td>\n",
              "      <td>POINT (-93.741511 41.580206)</td>\n",
              "      <td>77.0</td>\n",
              "      <td>POLK</td>\n",
              "      <td>...</td>\n",
              "      <td>4626</td>\n",
              "      <td>Buchanan Deluxe 12YR</td>\n",
              "      <td>12</td>\n",
              "      <td>750</td>\n",
              "      <td>20.99</td>\n",
              "      <td>31.49</td>\n",
              "      <td>2</td>\n",
              "      <td>62.98</td>\n",
              "      <td>1.5</td>\n",
              "      <td>0.39</td>\n",
              "    </tr>\n",
              "  </tbody>\n",
              "</table>\n",
              "<p>5 rows × 24 columns</p>\n",
              "</div>\n",
              "      <button class=\"colab-df-convert\" onclick=\"convertToInteractive('df-e5b69f19-fd7a-4410-917d-b891398e094a')\"\n",
              "              title=\"Convert this dataframe to an interactive table.\"\n",
              "              style=\"display:none;\">\n",
              "        \n",
              "  <svg xmlns=\"http://www.w3.org/2000/svg\" height=\"24px\"viewBox=\"0 0 24 24\"\n",
              "       width=\"24px\">\n",
              "    <path d=\"M0 0h24v24H0V0z\" fill=\"none\"/>\n",
              "    <path d=\"M18.56 5.44l.94 2.06.94-2.06 2.06-.94-2.06-.94-.94-2.06-.94 2.06-2.06.94zm-11 1L8.5 8.5l.94-2.06 2.06-.94-2.06-.94L8.5 2.5l-.94 2.06-2.06.94zm10 10l.94 2.06.94-2.06 2.06-.94-2.06-.94-.94-2.06-.94 2.06-2.06.94z\"/><path d=\"M17.41 7.96l-1.37-1.37c-.4-.4-.92-.59-1.43-.59-.52 0-1.04.2-1.43.59L10.3 9.45l-7.72 7.72c-.78.78-.78 2.05 0 2.83L4 21.41c.39.39.9.59 1.41.59.51 0 1.02-.2 1.41-.59l7.78-7.78 2.81-2.81c.8-.78.8-2.07 0-2.86zM5.41 20L4 18.59l7.72-7.72 1.47 1.35L5.41 20z\"/>\n",
              "  </svg>\n",
              "      </button>\n",
              "      \n",
              "  <style>\n",
              "    .colab-df-container {\n",
              "      display:flex;\n",
              "      flex-wrap:wrap;\n",
              "      gap: 12px;\n",
              "    }\n",
              "\n",
              "    .colab-df-convert {\n",
              "      background-color: #E8F0FE;\n",
              "      border: none;\n",
              "      border-radius: 50%;\n",
              "      cursor: pointer;\n",
              "      display: none;\n",
              "      fill: #1967D2;\n",
              "      height: 32px;\n",
              "      padding: 0 0 0 0;\n",
              "      width: 32px;\n",
              "    }\n",
              "\n",
              "    .colab-df-convert:hover {\n",
              "      background-color: #E2EBFA;\n",
              "      box-shadow: 0px 1px 2px rgba(60, 64, 67, 0.3), 0px 1px 3px 1px rgba(60, 64, 67, 0.15);\n",
              "      fill: #174EA6;\n",
              "    }\n",
              "\n",
              "    [theme=dark] .colab-df-convert {\n",
              "      background-color: #3B4455;\n",
              "      fill: #D2E3FC;\n",
              "    }\n",
              "\n",
              "    [theme=dark] .colab-df-convert:hover {\n",
              "      background-color: #434B5C;\n",
              "      box-shadow: 0px 1px 3px 1px rgba(0, 0, 0, 0.15);\n",
              "      filter: drop-shadow(0px 1px 2px rgba(0, 0, 0, 0.3));\n",
              "      fill: #FFFFFF;\n",
              "    }\n",
              "  </style>\n",
              "\n",
              "      <script>\n",
              "        const buttonEl =\n",
              "          document.querySelector('#df-e5b69f19-fd7a-4410-917d-b891398e094a button.colab-df-convert');\n",
              "        buttonEl.style.display =\n",
              "          google.colab.kernel.accessAllowed ? 'block' : 'none';\n",
              "\n",
              "        async function convertToInteractive(key) {\n",
              "          const element = document.querySelector('#df-e5b69f19-fd7a-4410-917d-b891398e094a');\n",
              "          const dataTable =\n",
              "            await google.colab.kernel.invokeFunction('convertToInteractive',\n",
              "                                                     [key], {});\n",
              "          if (!dataTable) return;\n",
              "\n",
              "          const docLinkHtml = 'Like what you see? Visit the ' +\n",
              "            '<a target=\"_blank\" href=https://colab.research.google.com/notebooks/data_table.ipynb>data table notebook</a>'\n",
              "            + ' to learn more about interactive tables.';\n",
              "          element.innerHTML = '';\n",
              "          dataTable['output_type'] = 'display_data';\n",
              "          await google.colab.output.renderOutput(dataTable, element);\n",
              "          const docLink = document.createElement('div');\n",
              "          docLink.innerHTML = docLinkHtml;\n",
              "          element.appendChild(docLink);\n",
              "        }\n",
              "      </script>\n",
              "    </div>\n",
              "  </div>\n",
              "  "
            ]
          },
          "metadata": {},
          "execution_count": 21
        }
      ]
    },
    {
      "cell_type": "code",
      "source": [
        "df_dc.info()"
      ],
      "metadata": {
        "id": "ivOeKCB6Wlcn",
        "colab": {
          "base_uri": "https://localhost:8080/"
        },
        "outputId": "27259195-5f08-4fd2-efbf-ee62b6c470a1"
      },
      "execution_count": null,
      "outputs": [
        {
          "output_type": "stream",
          "name": "stdout",
          "text": [
            "<class 'pandas.core.frame.DataFrame'>\n",
            "RangeIndex: 2805307 entries, 0 to 2805306\n",
            "Data columns (total 24 columns):\n",
            " #   Column                   Dtype  \n",
            "---  ------                   -----  \n",
            " 0   invoice_and_item_number  object \n",
            " 1   date                     object \n",
            " 2   store_number             int64  \n",
            " 3   store_name               object \n",
            " 4   address                  object \n",
            " 5   city                     object \n",
            " 6   zip_code                 float64\n",
            " 7   store_location           object \n",
            " 8   county_number            float64\n",
            " 9   county                   object \n",
            " 10  category                 float64\n",
            " 11  category_name            object \n",
            " 12  vendor_number            float64\n",
            " 13  vendor_name              object \n",
            " 14  item_number              int64  \n",
            " 15  item_description         object \n",
            " 16  pack                     int64  \n",
            " 17  bottle_volume_ml         int64  \n",
            " 18  state_bottle_cost        float64\n",
            " 19  state_bottle_retail      float64\n",
            " 20  bottles_sold             int64  \n",
            " 21  sale_dollars             float64\n",
            " 22  volume_sold_liters       float64\n",
            " 23  volume_sold_gallons      float64\n",
            "dtypes: float64(9), int64(5), object(10)\n",
            "memory usage: 513.7+ MB\n"
          ]
        }
      ]
    },
    {
      "cell_type": "code",
      "source": [
        "# count values in every columns\n",
        "for kolom in df_dc.columns:\n",
        "  print(df_dc[kolom].value_counts())"
      ],
      "metadata": {
        "id": "a6gGYBuuKAER",
        "colab": {
          "base_uri": "https://localhost:8080/"
        },
        "outputId": "23e1cce1-9664-45a7-c698-1789956185cc"
      },
      "execution_count": null,
      "outputs": [
        {
          "output_type": "stream",
          "name": "stdout",
          "text": [
            "INV-33179700135    1\n",
            "INV-38519900052    1\n",
            "INV-38514900111    1\n",
            "INV-38486800033    1\n",
            "INV-38498500044    1\n",
            "                  ..\n",
            "INV-33951000025    1\n",
            "INV-33952400159    1\n",
            "INV-33952800009    1\n",
            "INV-33953100080    1\n",
            "INV-41968600005    1\n",
            "Name: invoice_and_item_number, Length: 2805307, dtype: int64\n",
            "2021-12-21    14363\n",
            "2021-11-16    13831\n",
            "2021-11-26    13738\n",
            "2021-04-16    13484\n",
            "2021-03-05    13456\n",
            "              ...  \n",
            "2021-11-14       10\n",
            "2021-11-25        9\n",
            "2021-05-02        6\n",
            "2021-08-01        5\n",
            "2021-03-07        5\n",
            "Name: date, Length: 326, dtype: int64\n",
            "2633    20534\n",
            "4829    19568\n",
            "2190    16962\n",
            "2572    15484\n",
            "3773    14552\n",
            "        ...  \n",
            "5889        5\n",
            "9046        4\n",
            "9049        3\n",
            "5939        2\n",
            "6260        1\n",
            "Name: store_number, Length: 1954, dtype: int64\n",
            "Hy-Vee #3 / BDI / Des Moines                20534\n",
            "Central City 2                              19604\n",
            "Central City Liquor, Inc.                   16926\n",
            "Hy-Vee Food Store / Cedar Falls             15484\n",
            "Benz Distributing                           14552\n",
            "                                            ...  \n",
            "Artisan Grain Distillery                        6\n",
            "Rock River Distillation Company                 4\n",
            "TYCOGA Vineyard & Winery                        3\n",
            "Eddy's Liquors / Alta                           2\n",
            "Superquick Liquor Vine / West Des Moines        1\n",
            "Name: store_name, Length: 1952, dtype: int64\n",
            "3221 SE 14th St      27715\n",
            "1501 Michigan Ave    19568\n",
            "1460 2ND AVE         16962\n",
            "6301 University      15484\n",
            "501 7th Ave SE       14552\n",
            "                     ...  \n",
            "1800 22nd St             5\n",
            "3294 170th St            4\n",
            "2585 195th St            3\n",
            "103 S Main St            2\n",
            "2704 Vine Street         1\n",
            "Name: address, Length: 1936, dtype: int64\n",
            "Des Moines         225687\n",
            "Cedar Rapids       175787\n",
            "Davenport          113644\n",
            "West Des Moines     93987\n",
            "Sioux City          84252\n",
            "                    ...  \n",
            "Alburnett              88\n",
            "Melbourne              83\n",
            "Rudd                   70\n",
            "Earling                34\n",
            "Primghar               29\n",
            "Name: city, Length: 442, dtype: int64\n",
            "50613.0    61588\n",
            "50010.0    61073\n",
            "52402.0    53628\n",
            "50317.0    49846\n",
            "51501.0    48704\n",
            "           ...  \n",
            "52202.0       88\n",
            "50162.0       83\n",
            "50336.0       76\n",
            "50471.0       70\n",
            "51245.0       29\n",
            "Name: zip_code, Length: 479, dtype: int64\n",
            "POINT (-93.596754 41.554101)    17474\n",
            "POINT (-92.435236 42.512789)    15480\n",
            "POINT (-91.659875 41.97574)     14550\n",
            "POINT (-93.619787 41.60566)     14242\n",
            "POINT (-93.613739 41.60572)     13978\n",
            "                                ...  \n",
            "POINT (-93.896683 40.623617)        1\n",
            "POINT (-93.400208 41.887985)        1\n",
            "POINT (-92.33889 42.530241)         1\n",
            "POINT (-93.736157 41.599086)        1\n",
            "POINT (-93.585027 41.705287)        1\n",
            "Name: store_location, Length: 2570, dtype: int64\n",
            "77.0    532143\n",
            "57.0    231911\n",
            "82.0    161709\n",
            "7.0     155024\n",
            "52.0    131471\n",
            "         ...  \n",
            "87.0      2375\n",
            "93.0      2148\n",
            "26.0      1943\n",
            "80.0      1714\n",
            "36.0      1059\n",
            "Name: county_number, Length: 99, dtype: int64\n",
            "POLK          494260\n",
            "LINN          228614\n",
            "SCOTT         161524\n",
            "BLACK HAWK    153339\n",
            "JOHNSON       131471\n",
            "               ...  \n",
            "Pottawatta       610\n",
            "Hancock          536\n",
            "Jackson          381\n",
            "Marshall         205\n",
            "Scott            185\n",
            "Name: county, Length: 119, dtype: int64\n",
            "1031100.0    417975\n",
            "1012100.0    267593\n",
            "1011200.0    203431\n",
            "1081600.0    155690\n",
            "1031200.0    125930\n",
            "1062400.0    120999\n",
            "1011100.0    120456\n",
            "1022200.0     94612\n",
            "1081400.0     89943\n",
            "1071100.0     89274\n",
            "1011400.0     79679\n",
            "1032100.0     79102\n",
            "1051100.0     73629\n",
            "1081300.0     69774\n",
            "1062500.0     68220\n",
            "1081200.0     60262\n",
            "1082000.0     59435\n",
            "1022100.0     59195\n",
            "1062200.0     56969\n",
            "1052100.0     53588\n",
            "1701100.0     50089\n",
            "1032200.0     46783\n",
            "1041100.0     43781\n",
            "1082200.0     43603\n",
            "1012200.0     38190\n",
            "1012400.0     34403\n",
            "1042100.0     30165\n",
            "1011600.0     25320\n",
            "1012300.0     22773\n",
            "1091300.0     18696\n",
            "1062100.0     14313\n",
            "1081100.0     14150\n",
            "1091100.0     11451\n",
            "1081500.0      9490\n",
            "1062300.0      9343\n",
            "1700000.0      7948\n",
            "1091200.0      5625\n",
            "1082100.0      5549\n",
            "1011300.0      5293\n",
            "1901200.0      4985\n",
            "1092100.0      4426\n",
            "1011500.0      4414\n",
            "1041200.0      2630\n",
            "1022300.0      2492\n",
            "1011700.0      1765\n",
            "1041300.0       960\n",
            "1081000.0       343\n",
            "1031000.0       224\n",
            "1090000.0       215\n",
            "1091000.0        45\n",
            "1092000.0        27\n",
            "1032000.0        18\n",
            "1070000.0        16\n",
            "1042000.0        10\n",
            "1012000.0        10\n",
            "1070100.0         5\n",
            "1011000.0         1\n",
            "Name: category, dtype: int64\n",
            "American Vodkas                         417975\n",
            "Canadian Whiskies                       267593\n",
            "Straight Bourbon Whiskies               203431\n",
            "Whiskey Liqueur                         155690\n",
            "American Flavored Vodka                 125930\n",
            "Spiced Rum                              120999\n",
            "Blended Whiskies                        120456\n",
            "100% Agave Tequila                       94612\n",
            "American Schnapps                        89943\n",
            "Cocktails /RTD                           89274\n",
            "Tennessee Whiskies                       79679\n",
            "Imported Vodkas                          79102\n",
            "American Brandies                        73629\n",
            "American Cordials & Liqueur              69774\n",
            "Flavored Rum                             68220\n",
            "Cream Liqueurs                           60262\n",
            "Imported Cordials & Liqueurs             59435\n",
            "Mixto Tequila                            59195\n",
            "White Rum                                56969\n",
            "Imported Brandies                        53588\n",
            "Temporary & Specialty Packages           50089\n",
            "Imported Flavored Vodka                  46783\n",
            "American Dry Gins                        43781\n",
            "Imported Schnapps                        43603\n",
            "Scotch Whiskies                          38190\n",
            "Irish Whiskies                           34403\n",
            "Imported Dry Gins                        30165\n",
            "Straight Rye Whiskies                    25320\n",
            "Single Malt Scotch                       22773\n",
            "Neutral Grain Spirits Flavored           18696\n",
            "Gold Rum                                 14313\n",
            "Coffee Liqueurs                          14150\n",
            "American Distilled Spirit Specialty      11451\n",
            "Triple Sec                                9490\n",
            "Aged Dark Rum                             9343\n",
            "Temporary &  Specialty Packages           7948\n",
            "Neutral Grain Spirits                     5625\n",
            "Imported Cordials & Liqueur               5549\n",
            "Single Barrel Bourbon Whiskies            5293\n",
            "Special Order Items                       4985\n",
            "Imported Distilled Spirit Specialty       4426\n",
            "Bottled in Bond Bourbon                   4414\n",
            "Flavored Gin                              2630\n",
            "Mezcal                                    2492\n",
            "Corn Whiskies                             1765\n",
            "American Sloe Gins                         960\n",
            "American Cordials & Liqueurs               343\n",
            "American Vodka                             224\n",
            "Distilled Spirits Specialty                215\n",
            "American Distilled Spirits Specialty        45\n",
            "Imported Distilled Spirits Specialty        27\n",
            "Imported Vodka                              18\n",
            "Cocktails / RTD                             16\n",
            "Imported Gins                               10\n",
            "Imported Whiskies                           10\n",
            "Temporary  & Specialty Packages              5\n",
            "American Whiskies                            1\n",
            "Name: category_name, dtype: int64\n",
            "260.0    436328\n",
            "421.0    366500\n",
            "65.0     239807\n",
            "259.0    218944\n",
            "434.0    196037\n",
            "          ...  \n",
            "638.0         1\n",
            "656.0         1\n",
            "329.0         1\n",
            "727.0         1\n",
            "233.0         1\n",
            "Name: vendor_number, Length: 222, dtype: int64\n",
            "DIAGEO AMERICAS             436328\n",
            "SAZERAC COMPANY  INC        366500\n",
            "Jim Beam Brands             239807\n",
            "Heaven Hill Brands          218944\n",
            "LUXCO INC                   196037\n",
            "                             ...  \n",
            "DC Beverage LLC                  1\n",
            "Serendipity Wines, LLC           1\n",
            "Pyatt Enterprises LLC            1\n",
            "Highclere Castle Spirits         1\n",
            "Wild Agave Imports LLC           1\n",
            "Name: vendor_name, Length: 227, dtype: int64\n",
            "11788     27319\n",
            "36308     26277\n",
            "38176     21625\n",
            "64870     18592\n",
            "64858     18378\n",
            "          ...  \n",
            "926333        1\n",
            "902031        1\n",
            "987545        1\n",
            "929566        1\n",
            "902263        1\n",
            "Name: item_number, Length: 4545, dtype: int64\n",
            "Titos Handmade Vodka                      66884\n",
            "Black Velvet                              65923\n",
            "Fireball Cinnamon Whiskey                 56901\n",
            "Hawkeye Vodka                             53019\n",
            "Captain Morgan Original Spiced            40541\n",
            "                                          ...  \n",
            "Georgia Moon Corn Wsky Fruit Jar 80prf        1\n",
            "Don Ramon Tequila Reserva Reposado            1\n",
            "The Botanist Mini                             1\n",
            "Red Hot INK                                   1\n",
            "Adictivo Extra Anejo Black                    1\n",
            "Name: item_description, Length: 4032, dtype: int64\n",
            "12     1462348\n",
            "6       864666\n",
            "24      253698\n",
            "48       70629\n",
            "10       65815\n",
            "1        34209\n",
            "8        22809\n",
            "5        11061\n",
            "4         6666\n",
            "44        5872\n",
            "3         5522\n",
            "9          549\n",
            "60         509\n",
            "15         417\n",
            "30         305\n",
            "20         177\n",
            "28          31\n",
            "18          13\n",
            "16           7\n",
            "2            2\n",
            "120          2\n",
            "Name: pack, dtype: int64\n",
            "750     1268612\n",
            "1750     527322\n",
            "50       304056\n",
            "375      301458\n",
            "1000     271162\n",
            "200       89742\n",
            "100       35799\n",
            "800        1500\n",
            "1800       1161\n",
            "2400        896\n",
            "850         688\n",
            "900         606\n",
            "20          512\n",
            "950         454\n",
            "2250        339\n",
            "3500        254\n",
            "400         183\n",
            "5250        179\n",
            "1200        171\n",
            "600         118\n",
            "4500         54\n",
            "175          21\n",
            "150          13\n",
            "603           6\n",
            "700           1\n",
            "Name: bottle_volume_ml, dtype: int64\n",
            "7.50     79648\n",
            "10.00    77299\n",
            "8.25     52808\n",
            "6.50     49920\n",
            "8.00     45560\n",
            "         ...  \n",
            "21.24        1\n",
            "16.40        1\n",
            "42.99        1\n",
            "11.96        1\n",
            "17.38        1\n",
            "Name: state_bottle_cost, Length: 1312, dtype: int64\n",
            "11.25     79648\n",
            "15.00     77299\n",
            "12.38     52808\n",
            "9.75      49920\n",
            "12.00     45560\n",
            "          ...  \n",
            "449.96        1\n",
            "42.86         1\n",
            "56.51         1\n",
            "95.51         1\n",
            "26.07         1\n",
            "Name: state_bottle_retail, Length: 1315, dtype: int64\n",
            "12     736115\n",
            "6      630275\n",
            "2      313025\n",
            "1      278267\n",
            "3      239762\n",
            "        ...  \n",
            "894         1\n",
            "285         1\n",
            "115         1\n",
            "142         1\n",
            "573         1\n",
            "Name: bottles_sold, Length: 397, dtype: int64\n",
            "90.00      49331\n",
            "135.00     37362\n",
            "180.00     36425\n",
            "77.40      27705\n",
            "64.80      26386\n",
            "           ...  \n",
            "4203.36        1\n",
            "1235.25        1\n",
            "592.92         1\n",
            "1358.88        1\n",
            "8232.36        1\n",
            "Name: sale_dollars, Length: 11136, dtype: int64\n",
            "9.00       559216\n",
            "10.50      352228\n",
            "4.50       255948\n",
            "1.50       187922\n",
            "2.25       174195\n",
            "            ...  \n",
            "544.25          1\n",
            "1104.00         1\n",
            "62.00           1\n",
            "552.00          1\n",
            "1002.75         1\n",
            "Name: volume_sold_liters, Length: 772, dtype: int64\n",
            "2.37      559216\n",
            "2.77      352228\n",
            "1.18      255948\n",
            "0.39      187922\n",
            "0.59      174195\n",
            "           ...  \n",
            "291.64         1\n",
            "16.37          1\n",
            "145.82         1\n",
            "2.65           1\n",
            "264.89         1\n",
            "Name: volume_sold_gallons, Length: 761, dtype: int64\n"
          ]
        }
      ]
    },
    {
      "cell_type": "markdown",
      "source": [
        "## Dropped NaN & Duplicate Values"
      ],
      "metadata": {
        "id": "0okkKFkvYBtC"
      }
    },
    {
      "cell_type": "code",
      "source": [
        "df_dc.isna().sum()"
      ],
      "metadata": {
        "id": "BXPyzm4dXxrU",
        "colab": {
          "base_uri": "https://localhost:8080/"
        },
        "outputId": "b33609d1-dbd6-40d5-ae97-a578964bf636"
      },
      "execution_count": null,
      "outputs": [
        {
          "output_type": "execute_result",
          "data": {
            "text/plain": [
              "invoice_and_item_number         0\n",
              "date                            0\n",
              "store_number                    0\n",
              "store_name                      0\n",
              "address                       142\n",
              "city                          142\n",
              "zip_code                      142\n",
              "store_location             330335\n",
              "county_number                 142\n",
              "county                        142\n",
              "category                        0\n",
              "category_name                   0\n",
              "vendor_number                   4\n",
              "vendor_name                     4\n",
              "item_number                     0\n",
              "item_description                0\n",
              "pack                            0\n",
              "bottle_volume_ml                0\n",
              "state_bottle_cost               0\n",
              "state_bottle_retail             0\n",
              "bottles_sold                    0\n",
              "sale_dollars                    0\n",
              "volume_sold_liters              0\n",
              "volume_sold_gallons             0\n",
              "dtype: int64"
            ]
          },
          "metadata": {},
          "execution_count": 24
        }
      ]
    },
    {
      "cell_type": "code",
      "source": [
        "# Removing missing value\n",
        "\n",
        "df_dc = df_dc.dropna()\n",
        "df_dc.isna().sum()"
      ],
      "metadata": {
        "id": "mEWqoLqgPO3v",
        "colab": {
          "base_uri": "https://localhost:8080/"
        },
        "outputId": "c7b836dd-9cad-4342-a0b9-e1db14989efc"
      },
      "execution_count": null,
      "outputs": [
        {
          "output_type": "execute_result",
          "data": {
            "text/plain": [
              "invoice_and_item_number    0\n",
              "date                       0\n",
              "store_number               0\n",
              "store_name                 0\n",
              "address                    0\n",
              "city                       0\n",
              "zip_code                   0\n",
              "store_location             0\n",
              "county_number              0\n",
              "county                     0\n",
              "category                   0\n",
              "category_name              0\n",
              "vendor_number              0\n",
              "vendor_name                0\n",
              "item_number                0\n",
              "item_description           0\n",
              "pack                       0\n",
              "bottle_volume_ml           0\n",
              "state_bottle_cost          0\n",
              "state_bottle_retail        0\n",
              "bottles_sold               0\n",
              "sale_dollars               0\n",
              "volume_sold_liters         0\n",
              "volume_sold_gallons        0\n",
              "dtype: int64"
            ]
          },
          "metadata": {},
          "execution_count": 25
        }
      ]
    },
    {
      "cell_type": "code",
      "source": [
        "#330.339 rows has been dropped (2.805.307 rows to 2.474.968 rows)\n",
        "df_dc.shape"
      ],
      "metadata": {
        "id": "44CVAvyhVYvh",
        "colab": {
          "base_uri": "https://localhost:8080/"
        },
        "outputId": "df989a25-99d3-4171-c2a9-7609e602ec58"
      },
      "execution_count": null,
      "outputs": [
        {
          "output_type": "execute_result",
          "data": {
            "text/plain": [
              "(2474968, 24)"
            ]
          },
          "metadata": {},
          "execution_count": 26
        }
      ]
    },
    {
      "cell_type": "code",
      "source": [
        "df_dc[df_dc['invoice_and_item_number'].duplicated()]"
      ],
      "metadata": {
        "id": "1MEXcH9fXIWB",
        "colab": {
          "base_uri": "https://localhost:8080/",
          "height": 143
        },
        "outputId": "eeb4a084-fa07-4f8b-8aa5-fb7607fe75de"
      },
      "execution_count": null,
      "outputs": [
        {
          "output_type": "execute_result",
          "data": {
            "text/plain": [
              "Empty DataFrame\n",
              "Columns: [invoice_and_item_number, date, store_number, store_name, address, city, zip_code, store_location, county_number, county, category, category_name, vendor_number, vendor_name, item_number, item_description, pack, bottle_volume_ml, state_bottle_cost, state_bottle_retail, bottles_sold, sale_dollars, volume_sold_liters, volume_sold_gallons]\n",
              "Index: []\n",
              "\n",
              "[0 rows x 24 columns]"
            ],
            "text/html": [
              "\n",
              "  <div id=\"df-84af7ec7-6bf0-45d5-888d-9acc2a52b085\">\n",
              "    <div class=\"colab-df-container\">\n",
              "      <div>\n",
              "<style scoped>\n",
              "    .dataframe tbody tr th:only-of-type {\n",
              "        vertical-align: middle;\n",
              "    }\n",
              "\n",
              "    .dataframe tbody tr th {\n",
              "        vertical-align: top;\n",
              "    }\n",
              "\n",
              "    .dataframe thead th {\n",
              "        text-align: right;\n",
              "    }\n",
              "</style>\n",
              "<table border=\"1\" class=\"dataframe\">\n",
              "  <thead>\n",
              "    <tr style=\"text-align: right;\">\n",
              "      <th></th>\n",
              "      <th>invoice_and_item_number</th>\n",
              "      <th>date</th>\n",
              "      <th>store_number</th>\n",
              "      <th>store_name</th>\n",
              "      <th>address</th>\n",
              "      <th>city</th>\n",
              "      <th>zip_code</th>\n",
              "      <th>store_location</th>\n",
              "      <th>county_number</th>\n",
              "      <th>county</th>\n",
              "      <th>...</th>\n",
              "      <th>item_number</th>\n",
              "      <th>item_description</th>\n",
              "      <th>pack</th>\n",
              "      <th>bottle_volume_ml</th>\n",
              "      <th>state_bottle_cost</th>\n",
              "      <th>state_bottle_retail</th>\n",
              "      <th>bottles_sold</th>\n",
              "      <th>sale_dollars</th>\n",
              "      <th>volume_sold_liters</th>\n",
              "      <th>volume_sold_gallons</th>\n",
              "    </tr>\n",
              "  </thead>\n",
              "  <tbody>\n",
              "  </tbody>\n",
              "</table>\n",
              "<p>0 rows × 24 columns</p>\n",
              "</div>\n",
              "      <button class=\"colab-df-convert\" onclick=\"convertToInteractive('df-84af7ec7-6bf0-45d5-888d-9acc2a52b085')\"\n",
              "              title=\"Convert this dataframe to an interactive table.\"\n",
              "              style=\"display:none;\">\n",
              "        \n",
              "  <svg xmlns=\"http://www.w3.org/2000/svg\" height=\"24px\"viewBox=\"0 0 24 24\"\n",
              "       width=\"24px\">\n",
              "    <path d=\"M0 0h24v24H0V0z\" fill=\"none\"/>\n",
              "    <path d=\"M18.56 5.44l.94 2.06.94-2.06 2.06-.94-2.06-.94-.94-2.06-.94 2.06-2.06.94zm-11 1L8.5 8.5l.94-2.06 2.06-.94-2.06-.94L8.5 2.5l-.94 2.06-2.06.94zm10 10l.94 2.06.94-2.06 2.06-.94-2.06-.94-.94-2.06-.94 2.06-2.06.94z\"/><path d=\"M17.41 7.96l-1.37-1.37c-.4-.4-.92-.59-1.43-.59-.52 0-1.04.2-1.43.59L10.3 9.45l-7.72 7.72c-.78.78-.78 2.05 0 2.83L4 21.41c.39.39.9.59 1.41.59.51 0 1.02-.2 1.41-.59l7.78-7.78 2.81-2.81c.8-.78.8-2.07 0-2.86zM5.41 20L4 18.59l7.72-7.72 1.47 1.35L5.41 20z\"/>\n",
              "  </svg>\n",
              "      </button>\n",
              "      \n",
              "  <style>\n",
              "    .colab-df-container {\n",
              "      display:flex;\n",
              "      flex-wrap:wrap;\n",
              "      gap: 12px;\n",
              "    }\n",
              "\n",
              "    .colab-df-convert {\n",
              "      background-color: #E8F0FE;\n",
              "      border: none;\n",
              "      border-radius: 50%;\n",
              "      cursor: pointer;\n",
              "      display: none;\n",
              "      fill: #1967D2;\n",
              "      height: 32px;\n",
              "      padding: 0 0 0 0;\n",
              "      width: 32px;\n",
              "    }\n",
              "\n",
              "    .colab-df-convert:hover {\n",
              "      background-color: #E2EBFA;\n",
              "      box-shadow: 0px 1px 2px rgba(60, 64, 67, 0.3), 0px 1px 3px 1px rgba(60, 64, 67, 0.15);\n",
              "      fill: #174EA6;\n",
              "    }\n",
              "\n",
              "    [theme=dark] .colab-df-convert {\n",
              "      background-color: #3B4455;\n",
              "      fill: #D2E3FC;\n",
              "    }\n",
              "\n",
              "    [theme=dark] .colab-df-convert:hover {\n",
              "      background-color: #434B5C;\n",
              "      box-shadow: 0px 1px 3px 1px rgba(0, 0, 0, 0.15);\n",
              "      filter: drop-shadow(0px 1px 2px rgba(0, 0, 0, 0.3));\n",
              "      fill: #FFFFFF;\n",
              "    }\n",
              "  </style>\n",
              "\n",
              "      <script>\n",
              "        const buttonEl =\n",
              "          document.querySelector('#df-84af7ec7-6bf0-45d5-888d-9acc2a52b085 button.colab-df-convert');\n",
              "        buttonEl.style.display =\n",
              "          google.colab.kernel.accessAllowed ? 'block' : 'none';\n",
              "\n",
              "        async function convertToInteractive(key) {\n",
              "          const element = document.querySelector('#df-84af7ec7-6bf0-45d5-888d-9acc2a52b085');\n",
              "          const dataTable =\n",
              "            await google.colab.kernel.invokeFunction('convertToInteractive',\n",
              "                                                     [key], {});\n",
              "          if (!dataTable) return;\n",
              "\n",
              "          const docLinkHtml = 'Like what you see? Visit the ' +\n",
              "            '<a target=\"_blank\" href=https://colab.research.google.com/notebooks/data_table.ipynb>data table notebook</a>'\n",
              "            + ' to learn more about interactive tables.';\n",
              "          element.innerHTML = '';\n",
              "          dataTable['output_type'] = 'display_data';\n",
              "          await google.colab.output.renderOutput(dataTable, element);\n",
              "          const docLink = document.createElement('div');\n",
              "          docLink.innerHTML = docLinkHtml;\n",
              "          element.appendChild(docLink);\n",
              "        }\n",
              "      </script>\n",
              "    </div>\n",
              "  </div>\n",
              "  "
            ]
          },
          "metadata": {},
          "execution_count": 27
        }
      ]
    },
    {
      "cell_type": "code",
      "source": [
        "ordered_category_based_on_unique_cities = df_dc.groupby('category_name')['city'].nunique()\n",
        "ordered_category_based_on_unique_cities\n"
      ],
      "metadata": {
        "id": "nMjD7lRjo3-w",
        "colab": {
          "base_uri": "https://localhost:8080/"
        },
        "outputId": "8fdf9649-53bd-4d1a-a8ef-e558d1b0dc96"
      },
      "execution_count": null,
      "outputs": [
        {
          "output_type": "execute_result",
          "data": {
            "text/plain": [
              "category_name\n",
              "100% Agave Tequila                      385\n",
              "Aged Dark Rum                           187\n",
              "American Brandies                       344\n",
              "American Cordials & Liqueur             396\n",
              "American Cordials & Liqueurs             94\n",
              "American Distilled Spirit Specialty     355\n",
              "American Distilled Spirits Specialty     17\n",
              "American Dry Gins                       372\n",
              "American Flavored Vodka                 415\n",
              "American Schnapps                       411\n",
              "American Sloe Gins                      151\n",
              "American Vodka                           64\n",
              "American Vodkas                         430\n",
              "American Whiskies                         1\n",
              "Blended Whiskies                        427\n",
              "Bottled in Bond Bourbon                 183\n",
              "Canadian Whiskies                       428\n",
              "Cocktails / RTD                          12\n",
              "Cocktails /RTD                          388\n",
              "Coffee Liqueurs                         307\n",
              "Corn Whiskies                           127\n",
              "Cream Liqueurs                          409\n",
              "Distilled Spirits Specialty              52\n",
              "Flavored Gin                            144\n",
              "Flavored Rum                            420\n",
              "Gold Rum                                247\n",
              "Imported Brandies                       324\n",
              "Imported Cordials & Liqueur             177\n",
              "Imported Cordials & Liqueurs            411\n",
              "Imported Distilled Spirit Specialty     117\n",
              "Imported Distilled Spirits Specialty      6\n",
              "Imported Dry Gins                       347\n",
              "Imported Flavored Vodka                 284\n",
              "Imported Gins                             5\n",
              "Imported Schnapps                       400\n",
              "Imported Vodka                            5\n",
              "Imported Vodkas                         411\n",
              "Imported Whiskies                         3\n",
              "Irish Whiskies                          382\n",
              "Mezcal                                  110\n",
              "Mixto Tequila                           417\n",
              "Neutral Grain Spirits                   248\n",
              "Neutral Grain Spirits Flavored          285\n",
              "Scotch Whiskies                         293\n",
              "Single Barrel Bourbon Whiskies          220\n",
              "Single Malt Scotch                      216\n",
              "Special Order Items                     166\n",
              "Spiced Rum                              427\n",
              "Straight Bourbon Whiskies               429\n",
              "Straight Rye Whiskies                   314\n",
              "Temporary  & Specialty Packages           4\n",
              "Temporary &  Specialty Packages         292\n",
              "Temporary & Specialty Packages          420\n",
              "Tennessee Whiskies                      427\n",
              "Triple Sec                              244\n",
              "Whiskey Liqueur                         428\n",
              "White Rum                               415\n",
              "Name: city, dtype: int64"
            ]
          },
          "metadata": {},
          "execution_count": 28
        }
      ]
    },
    {
      "cell_type": "markdown",
      "source": [
        "## Data Manipulation"
      ],
      "metadata": {
        "id": "gUduflNrY0ll"
      }
    },
    {
      "cell_type": "markdown",
      "source": [
        "Date"
      ],
      "metadata": {
        "id": "kRLELSaOcWPD"
      }
    },
    {
      "cell_type": "code",
      "source": [
        "df_dc['date'] = pd.to_datetime(df_dc['date'])"
      ],
      "metadata": {
        "id": "wN076R1ZYjSV"
      },
      "execution_count": null,
      "outputs": []
    },
    {
      "cell_type": "code",
      "source": [
        "df_dc.sample(5)"
      ],
      "metadata": {
        "id": "qHW1je9GWZMd",
        "colab": {
          "base_uri": "https://localhost:8080/",
          "height": 490
        },
        "outputId": "508bd6eb-ad46-4e37-ef6f-655e48d50697"
      },
      "execution_count": null,
      "outputs": [
        {
          "output_type": "execute_result",
          "data": {
            "text/plain": [
              "        invoice_and_item_number       date  store_number  \\\n",
              "1876462         INV-38488000019 2021-07-20          4969   \n",
              "2551815         INV-36917500058 2021-05-25          2567   \n",
              "949013          INV-34048500047 2021-02-04          5126   \n",
              "691501          INV-42714800004 2021-12-08          4630   \n",
              "1646238         INV-40131300022 2021-09-16          2622   \n",
              "\n",
              "                                store_name             address        city  \\\n",
              "1876462      Lake Liquors Wine and Spirits      910 N 8th St W  Clear Lake   \n",
              "2551815       Hy-Vee Drugstore / Davenport  2200 West Kimberly   Davenport   \n",
              "949013   Price Chopper  /  Merle Hay #1315   4343 Merle Hay Rd  Des Moines   \n",
              "691501                 EZ Stop / Davenport       2923 Brady St   Davenport   \n",
              "1646238      Hy-Vee Food Store / Iowa City     1125 N Dodge St   Iowa City   \n",
              "\n",
              "         zip_code                        store_location  county_number  \\\n",
              "1876462   50428.0          POINT (-93.396651 43.142775)           17.0   \n",
              "2551815   52806.0          POINT (-90.608201 41.560663)           82.0   \n",
              "949013    50310.0  POINT (-93.697647 41.63740800000001)           77.0   \n",
              "691501    52803.0          POINT (-90.570603 41.549887)           82.0   \n",
              "1646238   52240.0          POINT (-91.518868 41.676095)           52.0   \n",
              "\n",
              "             county  ...  item_number               item_description  pack  \\\n",
              "1876462  CERRO GORD  ...        19477                    Makers Mark    12   \n",
              "2551815       SCOTT  ...        89198  Jose Cuervo Especial Reposado     6   \n",
              "949013         POLK  ...        51326              Maraska Slivovitz     6   \n",
              "691501        SCOTT  ...        87280               Casamigos Blanco     6   \n",
              "1646238     JOHNSON  ...        52595                   E & J VS PET    12   \n",
              "\n",
              "        bottle_volume_ml  state_bottle_cost state_bottle_retail  bottles_sold  \\\n",
              "1876462             1000              22.04               33.06             4   \n",
              "2551815             1750              21.50               32.25             6   \n",
              "949013               750              14.60               21.90             6   \n",
              "691501               750              26.84               40.26             6   \n",
              "1646238              750               6.50                9.75            12   \n",
              "\n",
              "         sale_dollars  volume_sold_liters  volume_sold_gallons  \n",
              "1876462        132.24                 4.0                 1.05  \n",
              "2551815        193.50                10.5                 2.77  \n",
              "949013         131.40                 4.5                 1.18  \n",
              "691501         241.56                 4.5                 1.18  \n",
              "1646238        117.00                 9.0                 2.37  \n",
              "\n",
              "[5 rows x 24 columns]"
            ],
            "text/html": [
              "\n",
              "  <div id=\"df-aa8f36a9-1ec7-4880-8b77-b467a44ad77b\">\n",
              "    <div class=\"colab-df-container\">\n",
              "      <div>\n",
              "<style scoped>\n",
              "    .dataframe tbody tr th:only-of-type {\n",
              "        vertical-align: middle;\n",
              "    }\n",
              "\n",
              "    .dataframe tbody tr th {\n",
              "        vertical-align: top;\n",
              "    }\n",
              "\n",
              "    .dataframe thead th {\n",
              "        text-align: right;\n",
              "    }\n",
              "</style>\n",
              "<table border=\"1\" class=\"dataframe\">\n",
              "  <thead>\n",
              "    <tr style=\"text-align: right;\">\n",
              "      <th></th>\n",
              "      <th>invoice_and_item_number</th>\n",
              "      <th>date</th>\n",
              "      <th>store_number</th>\n",
              "      <th>store_name</th>\n",
              "      <th>address</th>\n",
              "      <th>city</th>\n",
              "      <th>zip_code</th>\n",
              "      <th>store_location</th>\n",
              "      <th>county_number</th>\n",
              "      <th>county</th>\n",
              "      <th>...</th>\n",
              "      <th>item_number</th>\n",
              "      <th>item_description</th>\n",
              "      <th>pack</th>\n",
              "      <th>bottle_volume_ml</th>\n",
              "      <th>state_bottle_cost</th>\n",
              "      <th>state_bottle_retail</th>\n",
              "      <th>bottles_sold</th>\n",
              "      <th>sale_dollars</th>\n",
              "      <th>volume_sold_liters</th>\n",
              "      <th>volume_sold_gallons</th>\n",
              "    </tr>\n",
              "  </thead>\n",
              "  <tbody>\n",
              "    <tr>\n",
              "      <th>1876462</th>\n",
              "      <td>INV-38488000019</td>\n",
              "      <td>2021-07-20</td>\n",
              "      <td>4969</td>\n",
              "      <td>Lake Liquors Wine and Spirits</td>\n",
              "      <td>910 N 8th St W</td>\n",
              "      <td>Clear Lake</td>\n",
              "      <td>50428.0</td>\n",
              "      <td>POINT (-93.396651 43.142775)</td>\n",
              "      <td>17.0</td>\n",
              "      <td>CERRO GORD</td>\n",
              "      <td>...</td>\n",
              "      <td>19477</td>\n",
              "      <td>Makers Mark</td>\n",
              "      <td>12</td>\n",
              "      <td>1000</td>\n",
              "      <td>22.04</td>\n",
              "      <td>33.06</td>\n",
              "      <td>4</td>\n",
              "      <td>132.24</td>\n",
              "      <td>4.0</td>\n",
              "      <td>1.05</td>\n",
              "    </tr>\n",
              "    <tr>\n",
              "      <th>2551815</th>\n",
              "      <td>INV-36917500058</td>\n",
              "      <td>2021-05-25</td>\n",
              "      <td>2567</td>\n",
              "      <td>Hy-Vee Drugstore / Davenport</td>\n",
              "      <td>2200 West Kimberly</td>\n",
              "      <td>Davenport</td>\n",
              "      <td>52806.0</td>\n",
              "      <td>POINT (-90.608201 41.560663)</td>\n",
              "      <td>82.0</td>\n",
              "      <td>SCOTT</td>\n",
              "      <td>...</td>\n",
              "      <td>89198</td>\n",
              "      <td>Jose Cuervo Especial Reposado</td>\n",
              "      <td>6</td>\n",
              "      <td>1750</td>\n",
              "      <td>21.50</td>\n",
              "      <td>32.25</td>\n",
              "      <td>6</td>\n",
              "      <td>193.50</td>\n",
              "      <td>10.5</td>\n",
              "      <td>2.77</td>\n",
              "    </tr>\n",
              "    <tr>\n",
              "      <th>949013</th>\n",
              "      <td>INV-34048500047</td>\n",
              "      <td>2021-02-04</td>\n",
              "      <td>5126</td>\n",
              "      <td>Price Chopper  /  Merle Hay #1315</td>\n",
              "      <td>4343 Merle Hay Rd</td>\n",
              "      <td>Des Moines</td>\n",
              "      <td>50310.0</td>\n",
              "      <td>POINT (-93.697647 41.63740800000001)</td>\n",
              "      <td>77.0</td>\n",
              "      <td>POLK</td>\n",
              "      <td>...</td>\n",
              "      <td>51326</td>\n",
              "      <td>Maraska Slivovitz</td>\n",
              "      <td>6</td>\n",
              "      <td>750</td>\n",
              "      <td>14.60</td>\n",
              "      <td>21.90</td>\n",
              "      <td>6</td>\n",
              "      <td>131.40</td>\n",
              "      <td>4.5</td>\n",
              "      <td>1.18</td>\n",
              "    </tr>\n",
              "    <tr>\n",
              "      <th>691501</th>\n",
              "      <td>INV-42714800004</td>\n",
              "      <td>2021-12-08</td>\n",
              "      <td>4630</td>\n",
              "      <td>EZ Stop / Davenport</td>\n",
              "      <td>2923 Brady St</td>\n",
              "      <td>Davenport</td>\n",
              "      <td>52803.0</td>\n",
              "      <td>POINT (-90.570603 41.549887)</td>\n",
              "      <td>82.0</td>\n",
              "      <td>SCOTT</td>\n",
              "      <td>...</td>\n",
              "      <td>87280</td>\n",
              "      <td>Casamigos Blanco</td>\n",
              "      <td>6</td>\n",
              "      <td>750</td>\n",
              "      <td>26.84</td>\n",
              "      <td>40.26</td>\n",
              "      <td>6</td>\n",
              "      <td>241.56</td>\n",
              "      <td>4.5</td>\n",
              "      <td>1.18</td>\n",
              "    </tr>\n",
              "    <tr>\n",
              "      <th>1646238</th>\n",
              "      <td>INV-40131300022</td>\n",
              "      <td>2021-09-16</td>\n",
              "      <td>2622</td>\n",
              "      <td>Hy-Vee Food Store / Iowa City</td>\n",
              "      <td>1125 N Dodge St</td>\n",
              "      <td>Iowa City</td>\n",
              "      <td>52240.0</td>\n",
              "      <td>POINT (-91.518868 41.676095)</td>\n",
              "      <td>52.0</td>\n",
              "      <td>JOHNSON</td>\n",
              "      <td>...</td>\n",
              "      <td>52595</td>\n",
              "      <td>E &amp; J VS PET</td>\n",
              "      <td>12</td>\n",
              "      <td>750</td>\n",
              "      <td>6.50</td>\n",
              "      <td>9.75</td>\n",
              "      <td>12</td>\n",
              "      <td>117.00</td>\n",
              "      <td>9.0</td>\n",
              "      <td>2.37</td>\n",
              "    </tr>\n",
              "  </tbody>\n",
              "</table>\n",
              "<p>5 rows × 24 columns</p>\n",
              "</div>\n",
              "      <button class=\"colab-df-convert\" onclick=\"convertToInteractive('df-aa8f36a9-1ec7-4880-8b77-b467a44ad77b')\"\n",
              "              title=\"Convert this dataframe to an interactive table.\"\n",
              "              style=\"display:none;\">\n",
              "        \n",
              "  <svg xmlns=\"http://www.w3.org/2000/svg\" height=\"24px\"viewBox=\"0 0 24 24\"\n",
              "       width=\"24px\">\n",
              "    <path d=\"M0 0h24v24H0V0z\" fill=\"none\"/>\n",
              "    <path d=\"M18.56 5.44l.94 2.06.94-2.06 2.06-.94-2.06-.94-.94-2.06-.94 2.06-2.06.94zm-11 1L8.5 8.5l.94-2.06 2.06-.94-2.06-.94L8.5 2.5l-.94 2.06-2.06.94zm10 10l.94 2.06.94-2.06 2.06-.94-2.06-.94-.94-2.06-.94 2.06-2.06.94z\"/><path d=\"M17.41 7.96l-1.37-1.37c-.4-.4-.92-.59-1.43-.59-.52 0-1.04.2-1.43.59L10.3 9.45l-7.72 7.72c-.78.78-.78 2.05 0 2.83L4 21.41c.39.39.9.59 1.41.59.51 0 1.02-.2 1.41-.59l7.78-7.78 2.81-2.81c.8-.78.8-2.07 0-2.86zM5.41 20L4 18.59l7.72-7.72 1.47 1.35L5.41 20z\"/>\n",
              "  </svg>\n",
              "      </button>\n",
              "      \n",
              "  <style>\n",
              "    .colab-df-container {\n",
              "      display:flex;\n",
              "      flex-wrap:wrap;\n",
              "      gap: 12px;\n",
              "    }\n",
              "\n",
              "    .colab-df-convert {\n",
              "      background-color: #E8F0FE;\n",
              "      border: none;\n",
              "      border-radius: 50%;\n",
              "      cursor: pointer;\n",
              "      display: none;\n",
              "      fill: #1967D2;\n",
              "      height: 32px;\n",
              "      padding: 0 0 0 0;\n",
              "      width: 32px;\n",
              "    }\n",
              "\n",
              "    .colab-df-convert:hover {\n",
              "      background-color: #E2EBFA;\n",
              "      box-shadow: 0px 1px 2px rgba(60, 64, 67, 0.3), 0px 1px 3px 1px rgba(60, 64, 67, 0.15);\n",
              "      fill: #174EA6;\n",
              "    }\n",
              "\n",
              "    [theme=dark] .colab-df-convert {\n",
              "      background-color: #3B4455;\n",
              "      fill: #D2E3FC;\n",
              "    }\n",
              "\n",
              "    [theme=dark] .colab-df-convert:hover {\n",
              "      background-color: #434B5C;\n",
              "      box-shadow: 0px 1px 3px 1px rgba(0, 0, 0, 0.15);\n",
              "      filter: drop-shadow(0px 1px 2px rgba(0, 0, 0, 0.3));\n",
              "      fill: #FFFFFF;\n",
              "    }\n",
              "  </style>\n",
              "\n",
              "      <script>\n",
              "        const buttonEl =\n",
              "          document.querySelector('#df-aa8f36a9-1ec7-4880-8b77-b467a44ad77b button.colab-df-convert');\n",
              "        buttonEl.style.display =\n",
              "          google.colab.kernel.accessAllowed ? 'block' : 'none';\n",
              "\n",
              "        async function convertToInteractive(key) {\n",
              "          const element = document.querySelector('#df-aa8f36a9-1ec7-4880-8b77-b467a44ad77b');\n",
              "          const dataTable =\n",
              "            await google.colab.kernel.invokeFunction('convertToInteractive',\n",
              "                                                     [key], {});\n",
              "          if (!dataTable) return;\n",
              "\n",
              "          const docLinkHtml = 'Like what you see? Visit the ' +\n",
              "            '<a target=\"_blank\" href=https://colab.research.google.com/notebooks/data_table.ipynb>data table notebook</a>'\n",
              "            + ' to learn more about interactive tables.';\n",
              "          element.innerHTML = '';\n",
              "          dataTable['output_type'] = 'display_data';\n",
              "          await google.colab.output.renderOutput(dataTable, element);\n",
              "          const docLink = document.createElement('div');\n",
              "          docLink.innerHTML = docLinkHtml;\n",
              "          element.appendChild(docLink);\n",
              "        }\n",
              "      </script>\n",
              "    </div>\n",
              "  </div>\n",
              "  "
            ]
          },
          "metadata": {},
          "execution_count": 30
        }
      ]
    },
    {
      "cell_type": "code",
      "source": [
        "df_dc.info()"
      ],
      "metadata": {
        "id": "bbxnzMqhk-cz",
        "colab": {
          "base_uri": "https://localhost:8080/"
        },
        "outputId": "5bb51e30-ea28-4093-8c66-da03c9a2af21"
      },
      "execution_count": null,
      "outputs": [
        {
          "output_type": "stream",
          "name": "stdout",
          "text": [
            "<class 'pandas.core.frame.DataFrame'>\n",
            "Int64Index: 2474968 entries, 0 to 2805306\n",
            "Data columns (total 24 columns):\n",
            " #   Column                   Dtype         \n",
            "---  ------                   -----         \n",
            " 0   invoice_and_item_number  object        \n",
            " 1   date                     datetime64[ns]\n",
            " 2   store_number             int64         \n",
            " 3   store_name               object        \n",
            " 4   address                  object        \n",
            " 5   city                     object        \n",
            " 6   zip_code                 float64       \n",
            " 7   store_location           object        \n",
            " 8   county_number            float64       \n",
            " 9   county                   object        \n",
            " 10  category                 float64       \n",
            " 11  category_name            object        \n",
            " 12  vendor_number            float64       \n",
            " 13  vendor_name              object        \n",
            " 14  item_number              int64         \n",
            " 15  item_description         object        \n",
            " 16  pack                     int64         \n",
            " 17  bottle_volume_ml         int64         \n",
            " 18  state_bottle_cost        float64       \n",
            " 19  state_bottle_retail      float64       \n",
            " 20  bottles_sold             int64         \n",
            " 21  sale_dollars             float64       \n",
            " 22  volume_sold_liters       float64       \n",
            " 23  volume_sold_gallons      float64       \n",
            "dtypes: datetime64[ns](1), float64(9), int64(5), object(9)\n",
            "memory usage: 472.1+ MB\n"
          ]
        }
      ]
    },
    {
      "cell_type": "markdown",
      "source": [
        "## Checking duplicates"
      ],
      "metadata": {
        "id": "EALCNu0FZhy3"
      }
    },
    {
      "cell_type": "code",
      "source": [
        "df_dc[df_dc['invoice_and_item_number'].duplicated()] #No duplicate"
      ],
      "metadata": {
        "id": "Yj4p3xINZkuR",
        "colab": {
          "base_uri": "https://localhost:8080/",
          "height": 143
        },
        "outputId": "f1cf1244-4743-462c-abf1-5ebdc5b6d9b1"
      },
      "execution_count": null,
      "outputs": [
        {
          "output_type": "execute_result",
          "data": {
            "text/plain": [
              "Empty DataFrame\n",
              "Columns: [invoice_and_item_number, date, store_number, store_name, address, city, zip_code, store_location, county_number, county, category, category_name, vendor_number, vendor_name, item_number, item_description, pack, bottle_volume_ml, state_bottle_cost, state_bottle_retail, bottles_sold, sale_dollars, volume_sold_liters, volume_sold_gallons]\n",
              "Index: []\n",
              "\n",
              "[0 rows x 24 columns]"
            ],
            "text/html": [
              "\n",
              "  <div id=\"df-0263a2ec-b358-4ad3-8bac-8103ff3a6e6a\">\n",
              "    <div class=\"colab-df-container\">\n",
              "      <div>\n",
              "<style scoped>\n",
              "    .dataframe tbody tr th:only-of-type {\n",
              "        vertical-align: middle;\n",
              "    }\n",
              "\n",
              "    .dataframe tbody tr th {\n",
              "        vertical-align: top;\n",
              "    }\n",
              "\n",
              "    .dataframe thead th {\n",
              "        text-align: right;\n",
              "    }\n",
              "</style>\n",
              "<table border=\"1\" class=\"dataframe\">\n",
              "  <thead>\n",
              "    <tr style=\"text-align: right;\">\n",
              "      <th></th>\n",
              "      <th>invoice_and_item_number</th>\n",
              "      <th>date</th>\n",
              "      <th>store_number</th>\n",
              "      <th>store_name</th>\n",
              "      <th>address</th>\n",
              "      <th>city</th>\n",
              "      <th>zip_code</th>\n",
              "      <th>store_location</th>\n",
              "      <th>county_number</th>\n",
              "      <th>county</th>\n",
              "      <th>...</th>\n",
              "      <th>item_number</th>\n",
              "      <th>item_description</th>\n",
              "      <th>pack</th>\n",
              "      <th>bottle_volume_ml</th>\n",
              "      <th>state_bottle_cost</th>\n",
              "      <th>state_bottle_retail</th>\n",
              "      <th>bottles_sold</th>\n",
              "      <th>sale_dollars</th>\n",
              "      <th>volume_sold_liters</th>\n",
              "      <th>volume_sold_gallons</th>\n",
              "    </tr>\n",
              "  </thead>\n",
              "  <tbody>\n",
              "  </tbody>\n",
              "</table>\n",
              "<p>0 rows × 24 columns</p>\n",
              "</div>\n",
              "      <button class=\"colab-df-convert\" onclick=\"convertToInteractive('df-0263a2ec-b358-4ad3-8bac-8103ff3a6e6a')\"\n",
              "              title=\"Convert this dataframe to an interactive table.\"\n",
              "              style=\"display:none;\">\n",
              "        \n",
              "  <svg xmlns=\"http://www.w3.org/2000/svg\" height=\"24px\"viewBox=\"0 0 24 24\"\n",
              "       width=\"24px\">\n",
              "    <path d=\"M0 0h24v24H0V0z\" fill=\"none\"/>\n",
              "    <path d=\"M18.56 5.44l.94 2.06.94-2.06 2.06-.94-2.06-.94-.94-2.06-.94 2.06-2.06.94zm-11 1L8.5 8.5l.94-2.06 2.06-.94-2.06-.94L8.5 2.5l-.94 2.06-2.06.94zm10 10l.94 2.06.94-2.06 2.06-.94-2.06-.94-.94-2.06-.94 2.06-2.06.94z\"/><path d=\"M17.41 7.96l-1.37-1.37c-.4-.4-.92-.59-1.43-.59-.52 0-1.04.2-1.43.59L10.3 9.45l-7.72 7.72c-.78.78-.78 2.05 0 2.83L4 21.41c.39.39.9.59 1.41.59.51 0 1.02-.2 1.41-.59l7.78-7.78 2.81-2.81c.8-.78.8-2.07 0-2.86zM5.41 20L4 18.59l7.72-7.72 1.47 1.35L5.41 20z\"/>\n",
              "  </svg>\n",
              "      </button>\n",
              "      \n",
              "  <style>\n",
              "    .colab-df-container {\n",
              "      display:flex;\n",
              "      flex-wrap:wrap;\n",
              "      gap: 12px;\n",
              "    }\n",
              "\n",
              "    .colab-df-convert {\n",
              "      background-color: #E8F0FE;\n",
              "      border: none;\n",
              "      border-radius: 50%;\n",
              "      cursor: pointer;\n",
              "      display: none;\n",
              "      fill: #1967D2;\n",
              "      height: 32px;\n",
              "      padding: 0 0 0 0;\n",
              "      width: 32px;\n",
              "    }\n",
              "\n",
              "    .colab-df-convert:hover {\n",
              "      background-color: #E2EBFA;\n",
              "      box-shadow: 0px 1px 2px rgba(60, 64, 67, 0.3), 0px 1px 3px 1px rgba(60, 64, 67, 0.15);\n",
              "      fill: #174EA6;\n",
              "    }\n",
              "\n",
              "    [theme=dark] .colab-df-convert {\n",
              "      background-color: #3B4455;\n",
              "      fill: #D2E3FC;\n",
              "    }\n",
              "\n",
              "    [theme=dark] .colab-df-convert:hover {\n",
              "      background-color: #434B5C;\n",
              "      box-shadow: 0px 1px 3px 1px rgba(0, 0, 0, 0.15);\n",
              "      filter: drop-shadow(0px 1px 2px rgba(0, 0, 0, 0.3));\n",
              "      fill: #FFFFFF;\n",
              "    }\n",
              "  </style>\n",
              "\n",
              "      <script>\n",
              "        const buttonEl =\n",
              "          document.querySelector('#df-0263a2ec-b358-4ad3-8bac-8103ff3a6e6a button.colab-df-convert');\n",
              "        buttonEl.style.display =\n",
              "          google.colab.kernel.accessAllowed ? 'block' : 'none';\n",
              "\n",
              "        async function convertToInteractive(key) {\n",
              "          const element = document.querySelector('#df-0263a2ec-b358-4ad3-8bac-8103ff3a6e6a');\n",
              "          const dataTable =\n",
              "            await google.colab.kernel.invokeFunction('convertToInteractive',\n",
              "                                                     [key], {});\n",
              "          if (!dataTable) return;\n",
              "\n",
              "          const docLinkHtml = 'Like what you see? Visit the ' +\n",
              "            '<a target=\"_blank\" href=https://colab.research.google.com/notebooks/data_table.ipynb>data table notebook</a>'\n",
              "            + ' to learn more about interactive tables.';\n",
              "          element.innerHTML = '';\n",
              "          dataTable['output_type'] = 'display_data';\n",
              "          await google.colab.output.renderOutput(dataTable, element);\n",
              "          const docLink = document.createElement('div');\n",
              "          docLink.innerHTML = docLinkHtml;\n",
              "          element.appendChild(docLink);\n",
              "        }\n",
              "      </script>\n",
              "    </div>\n",
              "  </div>\n",
              "  "
            ]
          },
          "metadata": {},
          "execution_count": 32
        }
      ]
    },
    {
      "cell_type": "markdown",
      "source": [
        "## Check & Remove Outliers"
      ],
      "metadata": {
        "id": "zLeJmMgRShth"
      }
    },
    {
      "cell_type": "code",
      "source": [
        "# Boxplot before removing outliers\n",
        "feature = ['pack','bottle_volume_ml','state_bottle_cost','state_bottle_retail','bottles_sold','sale_dollars','volume_sold_liters','volume_sold_gallons']\n",
        "\n",
        "#adjust chart position and chart size\n",
        "fig, axes = plt.subplots(nrows=2, ncols=4,figsize=(20,10))\n",
        "\n",
        "# for 0 (i) , Income (el)\n",
        "for i,el in enumerate(feature):\n",
        "    a = df_dc.boxplot(el, ax=axes.flatten()[i],grid=False)\n",
        "\n",
        "#Show Chart\n",
        "plt.show()"
      ],
      "metadata": {
        "id": "fYjbHnJcVKyB",
        "colab": {
          "base_uri": "https://localhost:8080/",
          "height": 705
        },
        "outputId": "fb31c60b-c6e6-4f84-8619-f5f6c9766bd1"
      },
      "execution_count": null,
      "outputs": [
        {
          "output_type": "display_data",
          "data": {
            "text/plain": [
              "<Figure size 2000x1000 with 8 Axes>"
            ],
            "image/png": "[encoded data removed]"
          },
          "metadata": {}
        }
      ]
    },
    {
      "cell_type": "markdown",
      "source": [
        "Many outliers found, and it will be removed"
      ],
      "metadata": {
        "id": "THHL1nkQuOQx"
      }
    },
    {
      "cell_type": "code",
      "source": [
        "#Check the Q1,Q3,IQR,UB & LB\n",
        "#pack = pack\n",
        "print('Outlier Detection \"pack\"')\n",
        "pack_Q1 = df_dc[\"pack\"].quantile(0.25)\n",
        "print(\"Q1 =\",pack_Q1)\n",
        "\n",
        "pack_Q3 = df_dc[\"pack\"].quantile(0.75)\n",
        "print(\"Q3 =\",pack_Q3)\n",
        "\n",
        "pack_IQR = pack_Q3 - pack_Q1\n",
        "print(\"IQR =\",pack_IQR)\n",
        "\n",
        "pack_LB = pack_Q1-1.5*pack_IQR\n",
        "print(\"LB =\",pack_LB)\n",
        "\n",
        "pack_UB = pack_Q3+1.5*pack_IQR\n",
        "print(\"UB =\",pack_UB)\n",
        "\n",
        "\n",
        "#Check the Q1,Q3,IQR,UB & LB\n",
        "#botvol = bottle_volume_ml\n",
        "print('Outlier Detection \"bottle_volume_ml\"')\n",
        "botvol_Q1 = df_dc[\"bottle_volume_ml\"].quantile(0.25)\n",
        "print(\"Q1 =\",botvol_Q1)\n",
        "\n",
        "botvol_Q3 = df_dc[\"bottle_volume_ml\"].quantile(0.75)\n",
        "print(\"Q3 =\",botvol_Q3)\n",
        "\n",
        "botvol_IQR = botvol_Q3 - botvol_Q1\n",
        "print(\"IQR =\",botvol_IQR)\n",
        "\n",
        "botvol_LB = botvol_Q1-1.5*botvol_IQR\n",
        "print(\"LB =\",botvol_LB)\n",
        "\n",
        "botvol_UB = botvol_Q3+1.5*botvol_IQR\n",
        "print(\"UB =\",botvol_UB)\n",
        "\n",
        "\n",
        "#Check the Q1,Q3,IQR,UB & LB\n",
        "#st_botcost = state_bottle_cost\n",
        "print('Outlier Detection \"state_bottle_cost\"')\n",
        "st_botcost_Q1 = df_dc[\"state_bottle_cost\"].quantile(0.25)\n",
        "print(\"Q1 =\",st_botcost_Q1)\n",
        "\n",
        "st_botcost_Q3 = df_dc[\"state_bottle_cost\"].quantile(0.75)\n",
        "print(\"Q3 =\",st_botcost_Q3)\n",
        "\n",
        "st_botcost_IQR = st_botcost_Q3 - st_botcost_Q1\n",
        "print(\"IQR =\",st_botcost_IQR)\n",
        "\n",
        "st_botcost_LB = st_botcost_Q1-1.5*st_botcost_IQR\n",
        "print(\"LB =\",st_botcost_LB)\n",
        "\n",
        "st_botcost_UB = st_botcost_Q3+1.5*st_botcost_IQR\n",
        "print(\"UB =\",st_botcost_UB)\n",
        "\n",
        "\n",
        "#Check the Q1,Q3,IQR,UB & LB\n",
        "#st_botretail = state_bottle_retail\n",
        "print('Outlier Detection \"state_bottle_retail\"')\n",
        "st_botretail_Q1 = df_dc[\"state_bottle_retail\"].quantile(0.25)\n",
        "print(\"Q1 =\",st_botretail_Q1)\n",
        "\n",
        "st_botretail_Q3 = df_dc[\"state_bottle_retail\"].quantile(0.75)\n",
        "print(\"Q3 =\",st_botretail_Q3)\n",
        "\n",
        "st_botretail_IQR = st_botretail_Q3 - st_botretail_Q1\n",
        "print(\"IQR =\",st_botretail_IQR)\n",
        "\n",
        "st_botretail_LB = st_botretail_Q1-1.5*st_botretail_IQR\n",
        "print(\"LB =\",st_botretail_LB)\n",
        "\n",
        "st_botretail_UB = st_botretail_Q3+1.5*st_botretail_IQR\n",
        "print(\"UB =\",st_botretail_UB)\n",
        "\n",
        "\n",
        "#Check the Q1,Q3,IQR,UB & LB\n",
        "#bot_sold = bottles_sold\n",
        "print('Outlier Detection \"bottles_sold\"')\n",
        "bot_sold_Q1 = df_dc[\"bottles_sold\"].quantile(0.25)\n",
        "print(\"Q1 =\",bot_sold_Q1)\n",
        "\n",
        "bot_sold_Q3 = df_dc[\"bottles_sold\"].quantile(0.75)\n",
        "print(\"Q3 =\",bot_sold_Q3)\n",
        "\n",
        "bot_sold_IQR = bot_sold_Q3 - bot_sold_Q1\n",
        "print(\"IQR =\",bot_sold_IQR)\n",
        "\n",
        "bot_sold_LB = bot_sold_Q1-1.5*bot_sold_IQR\n",
        "print(\"LB =\",bot_sold_LB)\n",
        "\n",
        "bot_sold_UB = bot_sold_Q3+1.5*bot_sold_IQR\n",
        "print(\"UB =\",bot_sold_UB)\n",
        "\n",
        "\n",
        "#Check the Q1,Q3,IQR,UB & LB\n",
        "#sale_dollars = sale_dollars\n",
        "print('Outlier Detection \"sale_dollars\"')\n",
        "sale_dollars_Q1 = df_dc[\"sale_dollars\"].quantile(0.25)\n",
        "print(\"Q1 =\",sale_dollars_Q1)\n",
        "\n",
        "sale_dollars_Q3 = df_dc[\"sale_dollars\"].quantile(0.75)\n",
        "print(\"Q3 =\",sale_dollars_Q3)\n",
        "\n",
        "sale_dollars_IQR = sale_dollars_Q3 - sale_dollars_Q1\n",
        "print(\"IQR =\",sale_dollars_IQR)\n",
        "\n",
        "sale_dollars_LB = sale_dollars_Q1-1.5*sale_dollars_IQR\n",
        "print(\"LB =\",sale_dollars_LB)\n",
        "\n",
        "sale_dollars_UB = sale_dollars_Q3+1.5*sale_dollars_IQR\n",
        "print(\"UB =\",sale_dollars_UB)\n",
        "\n",
        "\n",
        "#Check the Q1,Q3,IQR,UB & LB\n",
        "#vol_soldlit = volume_sold_liters\n",
        "print('Outlier Detection \"volume_sold_liters\"')\n",
        "vol_soldlit_Q1 = df_dc[\"volume_sold_liters\"].quantile(0.25)\n",
        "print(\"Q1 =\",vol_soldlit_Q1)\n",
        "\n",
        "vol_soldlit_Q3 = df_dc[\"volume_sold_liters\"].quantile(0.75)\n",
        "print(\"Q3 =\",vol_soldlit_Q3)\n",
        "\n",
        "vol_soldlit_IQR = vol_soldlit_Q3 - vol_soldlit_Q1\n",
        "print(\"IQR =\",vol_soldlit_IQR)\n",
        "\n",
        "vol_soldlit_LB = vol_soldlit_Q1-1.5*vol_soldlit_IQR\n",
        "print(\"LB =\",vol_soldlit_LB)\n",
        "\n",
        "vol_soldlit_UB = vol_soldlit_Q3+1.5*vol_soldlit_IQR\n",
        "print(\"UB =\",vol_soldlit_UB)\n",
        "\n",
        "\n",
        "#Check the Q1,Q3,IQR,UB & LB\n",
        "#vol_soldgal = volume_sold_gallons\n",
        "print('Outlier Detection \"volume_sold_gallons\"')\n",
        "vol_soldgal_Q1 = df_dc[\"volume_sold_gallons\"].quantile(0.25)\n",
        "print(\"Q1 =\",vol_soldgal_Q1)\n",
        "\n",
        "vol_soldgal_Q3 = df_dc[\"volume_sold_gallons\"].quantile(0.75)\n",
        "print(\"Q3 =\",vol_soldgal_Q3)\n",
        "\n",
        "vol_soldgal_IQR = vol_soldgal_Q3 - vol_soldgal_Q1\n",
        "print(\"IQR =\",vol_soldgal_IQR)\n",
        "\n",
        "vol_soldgal_LB = vol_soldgal_Q1-1.5*vol_soldgal_IQR\n",
        "print(\"LB =\",vol_soldgal_LB)\n",
        "\n",
        "vol_soldgal_UB = vol_soldgal_Q3+1.5*vol_soldgal_IQR\n",
        "print(\"UB =\",vol_soldgal_UB)"
      ],
      "metadata": {
        "id": "VYaxMgCJfBDx",
        "colab": {
          "base_uri": "https://localhost:8080/"
        },
        "outputId": "f9d28a19-d6d2-4093-a043-01ac99d90c68"
      },
      "execution_count": null,
      "outputs": [
        {
          "output_type": "stream",
          "name": "stdout",
          "text": [
            "Outlier Detection \"pack\"\n",
            "Q1 = 6.0\n",
            "Q3 = 12.0\n",
            "IQR = 6.0\n",
            "LB = -3.0\n",
            "UB = 21.0\n",
            "Outlier Detection \"bottle_volume_ml\"\n",
            "Q1 = 375.0\n",
            "Q3 = 1000.0\n",
            "IQR = 625.0\n",
            "LB = -562.5\n",
            "UB = 1937.5\n",
            "Outlier Detection \"state_bottle_cost\"\n",
            "Q1 = 6.0\n",
            "Q3 = 14.0\n",
            "IQR = 8.0\n",
            "LB = -6.0\n",
            "UB = 26.0\n",
            "Outlier Detection \"state_bottle_retail\"\n",
            "Q1 = 9.0\n",
            "Q3 = 21.0\n",
            "IQR = 12.0\n",
            "LB = -9.0\n",
            "UB = 39.0\n",
            "Outlier Detection \"bottles_sold\"\n",
            "Q1 = 3.0\n",
            "Q3 = 12.0\n",
            "IQR = 9.0\n",
            "LB = -10.5\n",
            "UB = 25.5\n",
            "Outlier Detection \"sale_dollars\"\n",
            "Q1 = 42.0\n",
            "Q3 = 166.56\n",
            "IQR = 124.56\n",
            "LB = -144.84\n",
            "UB = 353.4\n",
            "Outlier Detection \"volume_sold_liters\"\n",
            "Q1 = 1.5\n",
            "Q3 = 10.5\n",
            "IQR = 9.0\n",
            "LB = -12.0\n",
            "UB = 24.0\n",
            "Outlier Detection \"volume_sold_gallons\"\n",
            "Q1 = 0.39\n",
            "Q3 = 2.77\n",
            "IQR = 2.38\n",
            "LB = -3.1799999999999997\n",
            "UB = 6.34\n"
          ]
        }
      ]
    },
    {
      "cell_type": "code",
      "source": [
        "#Removing/Excluding the outlier and assign it on new variable \"df_dc\"\n",
        "df_dc1 = df_dc[~((df_dc[\"pack\"] < pack_LB) | (df_dc[\"pack\"] > pack_UB))] #Screen pack\n",
        "df_dc2 = df_dc1[~((df_dc1[\"bottle_volume_ml\"] < botvol_LB) | (df_dc1[\"bottle_volume_ml\"] > botvol_UB))] #Screen bottle_volume_ml\n",
        "df_dc3 = df_dc2[~((df_dc2[\"state_bottle_cost\"] < st_botcost_LB) | (df_dc2[\"state_bottle_cost\"] > st_botcost_UB))] #Screen state_bottle_cost\n",
        "df_dc4 = df_dc3[~((df_dc3[\"state_bottle_retail\"] < st_botretail_LB) | (df_dc3[\"state_bottle_retail\"] > st_botretail_UB))] #Screen state_bottle_retail\n",
        "df_dc5 = df_dc4[~((df_dc4[\"bottles_sold\"] < bot_sold_LB) | (df_dc4[\"bottles_sold\"] > bot_sold_UB))] #Screen bottles_sold\n",
        "df_dc6 = df_dc5[~((df_dc5[\"sale_dollars\"] < sale_dollars_LB) | (df_dc5[\"sale_dollars\"] > sale_dollars_UB))] #Screen sale_dollars\n",
        "df_dc7 = df_dc6[~((df_dc6[\"volume_sold_liters\"] < vol_soldlit_LB) | (df_dc6[\"volume_sold_liters\"] > vol_soldlit_UB))] #Screen volume_sold_liters\n",
        "df_dc8 = df_dc7[~((df_dc7[\"volume_sold_gallons\"] < vol_soldgal_LB) | (df_dc7[\"volume_sold_gallons\"] > vol_soldgal_UB))] #Screen volume_sold_gallons\n",
        "df_dc_out = df_dc8.copy()\n",
        "df_dc_out.shape"
      ],
      "metadata": {
        "id": "J0SeXLn_n-V4",
        "colab": {
          "base_uri": "https://localhost:8080/"
        },
        "outputId": "951c6529-04c2-4076-d940-4a06e6979591"
      },
      "execution_count": null,
      "outputs": [
        {
          "output_type": "execute_result",
          "data": {
            "text/plain": [
              "(1903481, 24)"
            ]
          },
          "metadata": {},
          "execution_count": 35
        }
      ]
    },
    {
      "cell_type": "code",
      "source": [
        "# boxplot after removing outliers\n",
        "feature = ['pack','bottle_volume_ml','state_bottle_cost','state_bottle_retail','bottles_sold','sale_dollars','volume_sold_liters','volume_sold_gallons']\n",
        "\n",
        "#adjust chart position and chart size\n",
        "fig, axes = plt.subplots(nrows=2, ncols=4,figsize=(20,10))\n",
        "\n",
        "# for 0 (i) , Income (el)\n",
        "for i,el in enumerate(feature):\n",
        "    a = df_dc_out.boxplot(el, ax=axes.flatten()[i],grid=False)\n",
        "\n",
        "#Show Chart\n",
        "plt.show()"
      ],
      "metadata": {
        "id": "fh-udUNNt414",
        "colab": {
          "base_uri": "https://localhost:8080/",
          "height": 710
        },
        "outputId": "2b1c57d0-17d3-44ff-e266-8cb774e71086"
      },
      "execution_count": null,
      "outputs": [
        {
          "output_type": "display_data",
          "data": {
            "text/plain": [
              "<Figure size 2000x1000 with 8 Axes>"
            ],
            "image/png": "[encoded data removed]"
          },
          "metadata": {}
        }
      ]
    },
    {
      "cell_type": "markdown",
      "source": [
        "## EDA"
      ],
      "metadata": {
        "id": "3jmgVC0-5OR6"
      }
    },
    {
      "cell_type": "code",
      "source": [
        "df_eda = df_dc_out.copy()"
      ],
      "metadata": {
        "id": "pfnrm70u53A8"
      },
      "execution_count": null,
      "outputs": []
    },
    {
      "cell_type": "code",
      "source": [
        "df_eda['county']=df_eda['county'].str.upper()"
      ],
      "metadata": {
        "id": "YmgO_B56Yyte"
      },
      "execution_count": null,
      "outputs": []
    },
    {
      "cell_type": "code",
      "source": [
        "df_eda['city']=df_eda['city'].str.upper()"
      ],
      "metadata": {
        "id": "wzuh0pbKdlPd"
      },
      "execution_count": null,
      "outputs": []
    },
    {
      "cell_type": "code",
      "source": [
        "df_eda.head()"
      ],
      "metadata": {
        "id": "2MIVBenvdh4W"
      },
      "execution_count": null,
      "outputs": []
    },
    {
      "cell_type": "code",
      "source": [
        "from google.colab import files\n",
        "\n",
        "df_eda.to_csv('df_eda.csv', encoding = 'utf-8-sig', index = False)\n",
        "files.download('df_eda.csv')"
      ],
      "metadata": {
        "id": "Rk-5_YKq_q5l"
      },
      "execution_count": null,
      "outputs": []
    },
    {
      "cell_type": "code",
      "source": [
        "#Descriptive analysis after treating the outlier\n",
        "pd.set_option('display.float_format', lambda x: '%.3f' % x)\n",
        "\n",
        "numeric = ['pack','bottle_volume_ml','state_bottle_cost','state_bottle_retail','bottles_sold','sale_dollars','volume_sold_liters','volume_sold_gallons']\n",
        "\n",
        "desc_eda = df_eda[numeric].describe()\n",
        "desc_eda.loc['kurtosis'] = df_eda[numeric].kurt() #show kurtosis statistic\n",
        "desc_eda.loc['skewness'] = df_eda[numeric].skew() #show Skewness statistic\n",
        "desc_eda.loc['variance'] = df_eda[numeric].var() #show variance statistic\n",
        "desc_eda.round(2)"
      ],
      "metadata": {
        "id": "a2p3H2r25op7"
      },
      "execution_count": null,
      "outputs": []
    },
    {
      "cell_type": "code",
      "source": [
        "df_eda.head()"
      ],
      "metadata": {
        "id": "cbYdAQB4HfO9"
      },
      "execution_count": null,
      "outputs": []
    },
    {
      "cell_type": "markdown",
      "source": [
        "Get Monthly Data Each variables"
      ],
      "metadata": {
        "id": "LLOcbH0WAsha"
      }
    },
    {
      "cell_type": "code",
      "source": [
        "trend_pack = df_eda[['date','pack']]    #Choose the variable wee need to make the chart\n",
        "trend_pack['monthly'] = trend_pack['date'].dt.strftime('%Y/%m')   #Change the issue month into year,month format to get monthly data\n",
        "trend_pack = trend_pack.sort_values('date')  #Sort the values by the issue month, ascending\n",
        "trend_pack = trend_pack.groupby('monthly').sum() #sum the data and group it by the year_month\n",
        "trend_pack = trend_pack.reset_index()\n",
        "\n",
        "trend_botvol = df_eda[['date','bottle_volume_ml']]    #Choose the variable wee need to make the chart\n",
        "trend_botvol['monthly'] = trend_botvol['date'].dt.strftime('%Y/%m')   #Change the issue month into year,month format to get monthly data\n",
        "trend_botvol = trend_botvol.sort_values('date')  #Sort the values by the issue month, ascending\n",
        "trend_botvol = trend_botvol.groupby('monthly').sum() #sum the data and group it by the year_month\n",
        "trend_botvol = trend_botvol.reset_index()\n",
        "\n",
        "trend_st_botcost = df_eda[['date','state_bottle_cost']]    #Choose the variable wee need to make the chart\n",
        "trend_st_botcost['monthly'] = trend_st_botcost['date'].dt.strftime('%Y/%m')   #Change the issue month into year,month format to get monthly data\n",
        "trend_st_botcost = trend_st_botcost.sort_values('date')  #Sort the values by the issue month, ascending\n",
        "trend_st_botcost = trend_st_botcost.groupby('monthly').sum() #sum the data and group it by the year_month\n",
        "trend_st_botcost = trend_st_botcost.reset_index()\n",
        "\n",
        "trend_st_botretail = df_eda[['date','state_bottle_retail']]    #Choose the variable wee need to make the chart\n",
        "trend_st_botretail['monthly'] = trend_st_botretail['date'].dt.strftime('%Y/%m')   #Change the issue month into year,month format to get monthly data\n",
        "trend_st_botretail = trend_st_botretail.sort_values('date')  #Sort the values by the issue month, ascending\n",
        "trend_st_botretail = trend_st_botretail.groupby('monthly').sum() #sum the data and group it by the year_month\n",
        "trend_st_botretail = trend_st_botretail.reset_index()\n",
        "\n",
        "trend_bot_sold = df_eda[['date','bottles_sold']]    #Choose the variable wee need to make the chart\n",
        "trend_bot_sold['monthly'] = trend_bot_sold['date'].dt.strftime('%Y/%m')   #Change the issue month into year,month format to get monthly data\n",
        "trend_bot_sold = trend_bot_sold.sort_values('date')  #Sort the values by the issue month, ascending\n",
        "trend_bot_sold = trend_bot_sold.groupby('monthly').sum() #sum the data and group it by the year_month\n",
        "trend_bot_sold = trend_bot_sold.reset_index()\n",
        "\n",
        "trend_sale_dollars = df_eda[['date','sale_dollars']]    #Choose the variable wee need to make the chart\n",
        "trend_sale_dollars['monthly'] = trend_sale_dollars['date'].dt.strftime('%Y/%m')   #Change the issue month into year,month format to get monthly data\n",
        "trend_sale_dollars = trend_sale_dollars.sort_values('date')  #Sort the values by the issue month, ascending\n",
        "trend_sale_dollars = trend_sale_dollars.groupby('monthly').sum() #sum the data and group it by the year_month\n",
        "trend_sale_dollars = trend_sale_dollars.reset_index()\n",
        "\n",
        "trend_vol_soldlit = df_eda[['date','volume_sold_liters']]    #Choose the variable wee need to make the chart\n",
        "trend_vol_soldlit['monthly'] = trend_vol_soldlit['date'].dt.strftime('%Y/%m')   #Change the issue month into year,month format to get monthly data\n",
        "trend_vol_soldlit = trend_vol_soldlit.sort_values('date')  #Sort the values by the issue month, ascending\n",
        "trend_vol_soldlit = trend_vol_soldlit.groupby('monthly').sum() #sum the data and group it by the year_month\n",
        "trend_vol_soldlit = trend_vol_soldlit.reset_index()\n",
        "\n",
        "trend_vol_soldgal = df_eda[['date','volume_sold_gallons']]    #Choose the variable wee need to make the chart\n",
        "trend_vol_soldgal['monthly'] = trend_vol_soldgal['date'].dt.strftime('%Y/%m')   #Change the issue month into year,month format to get monthly data\n",
        "trend_vol_soldgal = trend_vol_soldgal.sort_values('date')  #Sort the values by the issue month, ascending\n",
        "trend_vol_soldgal = trend_vol_soldgal.groupby('monthly').sum() #sum the data and group it by the year_month\n",
        "trend_vol_soldgal = trend_vol_soldgal.reset_index()"
      ],
      "metadata": {
        "id": "84tJAA6e9DON"
      },
      "execution_count": null,
      "outputs": []
    },
    {
      "cell_type": "code",
      "source": [
        "plt.figure(figsize =(20,6))\n",
        "\n",
        "plt.xticks(rotation = 90)\n",
        "plt.plot(trend_pack['monthly'], trend_pack['pack'])\n",
        "plt.title('trend_pack', fontsize=20)\n",
        "\n",
        "plt.show()"
      ],
      "metadata": {
        "id": "07RuzlWY6ApF"
      },
      "execution_count": null,
      "outputs": []
    },
    {
      "cell_type": "code",
      "source": [
        "plt.figure(figsize =(20,6))\n",
        "\n",
        "plt.xticks(rotation = 90)\n",
        "plt.plot(trend_botvol['monthly'], trend_botvol['bottle_volume_ml'])\n",
        "plt.title('bottle_volume_ml', fontsize=20)\n",
        "\n",
        "plt.show()"
      ],
      "metadata": {
        "id": "L_eUtR6qEmzi"
      },
      "execution_count": null,
      "outputs": []
    },
    {
      "cell_type": "code",
      "source": [
        "plt.figure(figsize =(20,6))\n",
        "\n",
        "plt.xticks(rotation = 90)\n",
        "plt.plot(trend_st_botcost['monthly'], trend_st_botcost['state_bottle_cost'])\n",
        "plt.title('state_bottle_cost', fontsize=20)\n",
        "\n",
        "plt.show()"
      ],
      "metadata": {
        "id": "Uh0GEoYfEmsD"
      },
      "execution_count": null,
      "outputs": []
    },
    {
      "cell_type": "code",
      "source": [
        "plt.figure(figsize =(20,6))\n",
        "\n",
        "plt.xticks(rotation = 90)\n",
        "plt.plot(trend_st_botretail['monthly'], trend_st_botretail['state_bottle_retail'])\n",
        "plt.title('state_bottle_retail', fontsize=20)\n",
        "\n",
        "plt.show()"
      ],
      "metadata": {
        "id": "dHmuVLomEmk9"
      },
      "execution_count": null,
      "outputs": []
    },
    {
      "cell_type": "code",
      "source": [
        "plt.figure(figsize =(20,6))\n",
        "\n",
        "plt.xticks(rotation = 90)\n",
        "plt.plot(trend_bot_sold['monthly'], trend_bot_sold['bottles_sold'])\n",
        "plt.title('bottles_sold', fontsize=20)\n",
        "\n",
        "plt.show()"
      ],
      "metadata": {
        "id": "3vQXqxdjEme9"
      },
      "execution_count": null,
      "outputs": []
    },
    {
      "cell_type": "code",
      "source": [
        "plt.figure(figsize =(20,6))\n",
        "\n",
        "plt.xticks(rotation = 90)\n",
        "plt.plot(trend_sale_dollars['monthly'], trend_sale_dollars['sale_dollars'])\n",
        "plt.title('sale_dollars', fontsize=20)\n",
        "\n",
        "plt.show()"
      ],
      "metadata": {
        "id": "dWpKA3ayEmXW"
      },
      "execution_count": null,
      "outputs": []
    },
    {
      "cell_type": "code",
      "source": [
        "plt.figure(figsize =(20,6))\n",
        "\n",
        "plt.xticks(rotation = 90)\n",
        "plt.plot(trend_vol_soldlit['monthly'], trend_vol_soldlit['volume_sold_liters'])\n",
        "plt.title('volume_sold_liters', fontsize=20)\n",
        "\n",
        "plt.show()"
      ],
      "metadata": {
        "id": "rqtE2c9TEmGD"
      },
      "execution_count": null,
      "outputs": []
    },
    {
      "cell_type": "code",
      "source": [
        "plt.figure(figsize =(20,6))\n",
        "\n",
        "plt.xticks(rotation = 90)\n",
        "plt.plot(trend_vol_soldgal['monthly'], trend_vol_soldgal['volume_sold_gallons'])\n",
        "plt.title('volume_sold_gallons', fontsize=20)\n",
        "\n",
        "plt.show()"
      ],
      "metadata": {
        "id": "r1QZV91CF_0G"
      },
      "execution_count": null,
      "outputs": []
    },
    {
      "cell_type": "markdown",
      "source": [
        "Visualized According to Products"
      ],
      "metadata": {
        "id": "Yn5kCyt10NpL"
      }
    },
    {
      "cell_type": "code",
      "source": [
        "#Make sales data to visualized\n",
        "\n",
        "df_category = df_eda.groupby(['category_name'])['sale_dollars'].sum()\n",
        "df_category = df_category.reset_index()\n",
        "df_category = df_category.sort_values('sale_dollars', axis=0, ascending=False, inplace=False)\n",
        "df_category.head()"
      ],
      "metadata": {
        "id": "9KU7SiwNRUnP"
      },
      "execution_count": null,
      "outputs": []
    },
    {
      "cell_type": "code",
      "source": [
        "fig = plt.figure(figsize =(50, 15))\n",
        "\n",
        "K = df_category.copy()\n",
        "\n",
        "df_category.sort_values('sale_dollars', ascending= False, inplace= False)\n",
        "x = K['category_name']\n",
        "y = K['sale_dollars']\n",
        "plt.xticks(rotation = 90, fontsize=20)\n",
        "plt.yticks(rotation = 0, fontsize=20)\n",
        "#Add the data labels\n",
        "for i, v in enumerate(y):\n",
        "    vmil = round(v)\n",
        "    plt.text(i, v, str(vmil), fontweight='bold', fontsize=20, rotation = 45)\n",
        "\n",
        "plt.title(\"Most Sell\")\n",
        "plt.bar(x, y)   #Create the bar chart\n",
        "plt.show()"
      ],
      "metadata": {
        "id": "CU__Vf69lEYf"
      },
      "execution_count": null,
      "outputs": []
    },
    {
      "cell_type": "code",
      "source": [
        "top_10_category = df_category.sort_values('sale_dollars', axis=0, ascending=False, inplace=False)\n",
        "top_10_category = top_10_category.head(10)\n",
        "top_10_category"
      ],
      "metadata": {
        "id": "Xcup3MrOvwyG"
      },
      "execution_count": null,
      "outputs": []
    },
    {
      "cell_type": "code",
      "source": [
        "fig = plt.figure(figsize =(25, 10))\n",
        "\n",
        "K = top_10_category.copy()\n",
        "\n",
        "top_10_category.sort_values('sale_dollars', ascending= False, inplace= False)\n",
        "x = K['category_name']\n",
        "y = K['sale_dollars']\n",
        "plt.xticks(rotation = 45, fontsize=15)\n",
        "#Add the data labels\n",
        "for i, v in enumerate(y):\n",
        "    vmil = round(v)\n",
        "    plt.text(i, v, str(vmil), fontweight='bold', fontsize=15, rotation = 0)\n",
        "\n",
        "plt.title(\"Top 10 Sales (In Dollars)\")\n",
        "plt.bar(x, y)   #Create the bar chart\n",
        "plt.show()"
      ],
      "metadata": {
        "id": "g9KwggP_x-Wa"
      },
      "execution_count": null,
      "outputs": []
    },
    {
      "cell_type": "markdown",
      "source": [
        "Visualized According to Region"
      ],
      "metadata": {
        "id": "cUxPOcpQ0YcR"
      }
    },
    {
      "cell_type": "code",
      "source": [
        "#Make sales data to visualized\n",
        "\n",
        "df_region = df_eda.groupby(['county'])['sale_dollars'].sum()\n",
        "df_region = df_region.reset_index()\n",
        "df_region = df_region.sort_values('sale_dollars', axis=0, ascending=False, inplace=False)\n",
        "df_region.head()"
      ],
      "metadata": {
        "id": "T_AC2GOM0ju-"
      },
      "execution_count": null,
      "outputs": []
    },
    {
      "cell_type": "code",
      "source": [
        "fig = plt.figure(figsize =(50, 15))\n",
        "\n",
        "K = df_region.copy()\n",
        "\n",
        "df_region.sort_values('sale_dollars', ascending= False, inplace= True)\n",
        "x = K['county']\n",
        "y = K['sale_dollars']\n",
        "plt.xticks(rotation = 90, fontsize=15)\n",
        "plt.yticks(rotation = 0, fontsize=20)\n",
        "#Add the data labels\n",
        "for i, v in enumerate(y):\n",
        "    vmil = round(v)\n",
        "    plt.text(i, v, str(vmil), fontweight='normal', fontsize=15, rotation = 90)\n",
        "\n",
        "plt.title(\"Consumers_County\", fontsize = 25)\n",
        "plt.bar(x, y)   #Create the bar chart\n",
        "plt.show()"
      ],
      "metadata": {
        "id": "Q3nVYxmF1Gbx"
      },
      "execution_count": null,
      "outputs": []
    },
    {
      "cell_type": "code",
      "source": [
        "top_10_region = df_region.sort_values('sale_dollars', axis=0, ascending=False, inplace=False)\n",
        "top_10_region = top_10_region.head(10)\n",
        "top_10_region"
      ],
      "metadata": {
        "id": "VX6Bakwb2unm"
      },
      "execution_count": null,
      "outputs": []
    },
    {
      "cell_type": "code",
      "source": [
        "fig = plt.figure(figsize =(25, 10))\n",
        "\n",
        "K = top_10_region.copy()\n",
        "\n",
        "top_10_region.sort_values('sale_dollars', ascending= False, inplace= False)\n",
        "x = K['county']\n",
        "y = K['sale_dollars']\n",
        "plt.xticks(rotation = 45, fontsize=15)\n",
        "plt.yticks(rotation = 0, fontsize=15)\n",
        "#Add the data labels\n",
        "for i, v in enumerate(y):\n",
        "    vmil = round(v)\n",
        "    plt.text(i, v, str(vmil), fontweight='bold', fontsize=15, rotation = 0)\n",
        "\n",
        "plt.title(\"Consumers Top 10 County (In Dollars)\", fontsize=25)\n",
        "plt.bar(x, y)   #Create the bar chart\n",
        "plt.show()"
      ],
      "metadata": {
        "id": "PoiWZqfJ27IA"
      },
      "execution_count": null,
      "outputs": []
    },
    {
      "cell_type": "code",
      "source": [
        "df_eda['Date Year'] = df_eda['date'].dt.year\n",
        "df_eda['Date Month'] = df_eda['date'].dt.month\n",
        "df_eda.head()"
      ],
      "metadata": {
        "id": "gP8HJ_z_iDmb"
      },
      "execution_count": null,
      "outputs": []
    },
    {
      "cell_type": "code",
      "source": [
        "df_fc_bp = pd.pivot_table(df_eda, values='bottles_sold', index=['county'],columns=['Date Month'], aggfunc=np.sum)\n",
        "df_fc_bp"
      ],
      "metadata": {
        "id": "Jsi-Y1X_pEWa"
      },
      "execution_count": null,
      "outputs": []
    },
    {
      "cell_type": "code",
      "source": [
        "df_fc_kp = pd.pivot_table(df_eda, values='sale_dollars', index=['county'],columns=['category_name'], aggfunc=np.sum)\n",
        "df_fc_kp"
      ],
      "metadata": {
        "id": "lV2fxRejqd4l"
      },
      "execution_count": null,
      "outputs": []
    },
    {
      "cell_type": "code",
      "source": [
        "#from google.colab import files\n",
        "\n",
        "#df_fc_bp.to_csv('df.csv', encoding = 'utf-8-sig', index = False)\n",
        "#files.download('df.csv')"
      ],
      "metadata": {
        "id": "ayuUhzfWsMeR"
      },
      "execution_count": null,
      "outputs": []
    },
    {
      "cell_type": "markdown",
      "source": [
        "#F) ANSWER BUSINESS PROBLEM"
      ],
      "metadata": {
        "id": "HneOzypoNsZz"
      }
    },
    {
      "cell_type": "markdown",
      "source": [
        "## How was the trend of the number of bottles sold between January 2021 to January 2022 ?"
      ],
      "metadata": {
        "id": "e6XXrVUrN3n2"
      }
    },
    {
      "cell_type": "code",
      "source": [
        "plt.figure(figsize =(20,6))\n",
        "\n",
        "plt.xticks(rotation = 90)\n",
        "plt.plot(trend_bot_sold['monthly'], trend_bot_sold['bottles_sold'])\n",
        "plt.title('bottles_sold', fontsize=20)\n",
        "\n",
        "plt.show()"
      ],
      "metadata": {
        "id": "IfdljXhHO5TP"
      },
      "execution_count": null,
      "outputs": []
    },
    {
      "cell_type": "markdown",
      "source": [
        "## How much revenue does Iowa make from the business each month? Which product drives the most sales ?"
      ],
      "metadata": {
        "id": "OcuTo0n9N_K8"
      }
    },
    {
      "cell_type": "markdown",
      "source": [
        "\n",
        "## Are there any variations among regions in terms of the most popular product ?\n",
        "\n"
      ],
      "metadata": {
        "id": "aqC-1KGbOGiB"
      }
    },
    {
      "cell_type": "code",
      "source": [
        "df_fc_kp = pd.pivot_table(df_eda, values='sale_dollars', index=['county'],columns=['category_name'], aggfunc=np.sum)\n",
        "df_fc_kp"
      ],
      "metadata": {
        "id": "FzoVPJfCfwO-"
      },
      "execution_count": null,
      "outputs": []
    },
    {
      "cell_type": "code",
      "source": [
        "fig = plt.figure(figsize =(50, 15))\n",
        "\n",
        "K = df_region.copy()\n",
        "\n",
        "df_region.sort_values('sale_dollars', ascending= False, inplace= True)\n",
        "x = K['county']\n",
        "y = K['sale_dollars']\n",
        "plt.xticks(rotation = 90, fontsize=15)\n",
        "plt.yticks(rotation = 0, fontsize=20)\n",
        "#Add the data labels\n",
        "for i, v in enumerate(y):\n",
        "    vmil = round(v)\n",
        "    plt.text(i, v, str(vmil), fontweight='normal', fontsize=15, rotation = 90)\n",
        "\n",
        "plt.title(\"Consumers_County\", fontsize = 25)\n",
        "plt.bar(x, y)   #Create the bar chart\n",
        "plt.show()"
      ],
      "metadata": {
        "id": "skJ-kdYWgDhE"
      },
      "execution_count": null,
      "outputs": []
    },
    {
      "cell_type": "code",
      "source": [
        "fig = plt.figure(figsize =(25, 10))\n",
        "\n",
        "K = top_10_region.copy()\n",
        "\n",
        "top_10_region.sort_values('sale_dollars', ascending= False, inplace= False)\n",
        "x = K['county']\n",
        "y = K['sale_dollars']\n",
        "plt.xticks(rotation = 45, fontsize=15)\n",
        "plt.yticks(rotation = 0, fontsize=15)\n",
        "#Add the data labels\n",
        "for i, v in enumerate(y):\n",
        "    vmil = round(v)\n",
        "    plt.text(i, v, str(vmil), fontweight='bold', fontsize=15, rotation = 0)\n",
        "\n",
        "plt.title(\"Consumers Top 10 County (In Dollars)\", fontsize=25)\n",
        "plt.bar(x, y)   #Create the bar chart\n",
        "plt.show()"
      ],
      "metadata": {
        "id": "F7dN57lcgJAf"
      },
      "execution_count": null,
      "outputs": []
    },
    {
      "cell_type": "markdown",
      "source": [
        "## How many bottles will Iowa sell in the next three months ?"
      ],
      "metadata": {
        "id": "8_unLVE7OT88"
      }
    },
    {
      "cell_type": "markdown",
      "source": [
        "### Tes"
      ],
      "metadata": {
        "id": "oGmVr-stnpc3"
      }
    },
    {
      "cell_type": "code",
      "source": [
        "df_fc=df_eda.copy()"
      ],
      "metadata": {
        "id": "FEMW1bYOGnu5"
      },
      "execution_count": null,
      "outputs": []
    },
    {
      "cell_type": "code",
      "source": [
        "numerical_column = ['pack','bottle_volume_ml','state_bottle_cost','state_bottle_retail',\n",
        "                    'bottles_sold','sale_dollars','volume_sold_liters','volume_sold_gallons']\n",
        "\n",
        "fig, axes = plt.subplots(nrows=2, ncols=4,figsize=(20,10))\n",
        "for nomor, kolom in enumerate(numerical_column):\n",
        "  df_fc.boxplot(kolom, ax=axes.flatten()[nomor],grid=False)\n",
        "plt.show()"
      ],
      "metadata": {
        "id": "cxzYslX0i0ZB"
      },
      "execution_count": null,
      "outputs": []
    },
    {
      "cell_type": "code",
      "source": [
        "df_fc['date'] = pd.to_datetime(df_fc['date'])\n",
        "df_fc['date']"
      ],
      "metadata": {
        "id": "560zCoyjsjWK"
      },
      "execution_count": null,
      "outputs": []
    },
    {
      "cell_type": "code",
      "source": [
        "fig = plt.figure(figsize=(25,10)) #ukuran canvas\n",
        "\n",
        "ax = fig.add_subplot(1, 1, 1)\n",
        "ax.set_title('bottles_sold')\n",
        "\n",
        "sns.lineplot(data=df_fc,x='date',y='bottles_sold',ax=ax, color='blue')\n",
        "\n",
        "plt.show()"
      ],
      "metadata": {
        "id": "MTedqY7QsxZI"
      },
      "execution_count": null,
      "outputs": []
    },
    {
      "cell_type": "code",
      "source": [
        "import statsmodels.api as sm\n",
        "sm.graphics.tsa.plot_pacf(df_fc['pack'], lags = 30, title='autocol pack')\n",
        "plt.show()\n",
        "\n",
        "import statsmodels.api as sm\n",
        "sm.graphics.tsa.plot_pacf(df_fc['bottle_volume_ml'], lags = 30, title='autocol bottle_volume_ml')\n",
        "plt.show()\n",
        "\n",
        "import statsmodels.api as sm\n",
        "sm.graphics.tsa.plot_pacf(df_fc['state_bottle_cost'], lags = 30, title = 'autocol state_bottle_cost')\n",
        "plt.show()\n",
        "\n",
        "import statsmodels.api as sm\n",
        "sm.graphics.tsa.plot_pacf(df_fc['state_bottle_retail'], lags = 30, title = 'autocol state_bottle_retail')\n",
        "plt.show()\n",
        "\n",
        "import statsmodels.api as sm\n",
        "sm.graphics.tsa.plot_pacf(df_fc['bottles_sold'], lags = 30, title='autocol bottles_sold')\n",
        "plt.show()\n",
        "\n",
        "import statsmodels.api as sm\n",
        "sm.graphics.tsa.plot_pacf(df_fc['sale_dollars'], lags = 30, title='autocol sale_dollars')\n",
        "plt.show()\n",
        "\n",
        "import statsmodels.api as sm\n",
        "sm.graphics.tsa.plot_pacf(df_fc['volume_sold_liters'], lags = 30, title = 'autocol volume_sold_liters')\n",
        "plt.show()\n",
        "\n",
        "import statsmodels.api as sm\n",
        "sm.graphics.tsa.plot_pacf(df_fc['volume_sold_gallons'], lags = 30, title = 'autocol volume_sold_gallons')\n",
        "plt.show()"
      ],
      "metadata": {
        "id": "Oador3N8CVxS"
      },
      "execution_count": null,
      "outputs": []
    },
    {
      "cell_type": "code",
      "source": [
        "# Order df_fc\n",
        "df_fc2 = df_fc.sort_values(by = ['date']).copy()\n",
        "\n",
        "# Set Date as index\n",
        "df_fc2 = df_fc2.set_index(['date'])\n",
        "df_fc2.tail()"
      ],
      "metadata": {
        "id": "PGSVom1hFiWd"
      },
      "execution_count": null,
      "outputs": []
    },
    {
      "cell_type": "code",
      "source": [
        "# Define predictor and\n",
        "X = df_fc2[['pack','bottle_volume_ml','state_bottle_cost','state_bottle_retail',\n",
        "            'sale_dollars','volume_sold_liters','volume_sold_gallons']]\n",
        "y = df_fc2[['bottles_sold']]\n",
        "\n",
        "# To test the accuracy of our forecast, let's only train the model until June 2012 and see forecast from it forward\n",
        "X_train = X[X.index < '2022-01-31']\n",
        "X_test = X[X.index >= '2022-01-31']\n",
        "\n",
        "y_train = y[y.index < '2022-01-31']\n",
        "y_test = y[y.index >= '2022-01-31']"
      ],
      "metadata": {
        "id": "fE66BD1VF4eA"
      },
      "execution_count": null,
      "outputs": []
    },
    {
      "cell_type": "code",
      "source": [
        "print(X_train.shape)\n",
        "print(X_test.shape)"
      ],
      "metadata": {
        "id": "wO-F2q9cGs5s"
      },
      "execution_count": null,
      "outputs": []
    },
    {
      "cell_type": "code",
      "source": [
        "from sklearn.linear_model import LinearRegression # model lin. reg\n",
        "\n",
        "model = LinearRegression()\n",
        "model.fit(X_train,y_train)"
      ],
      "metadata": {
        "id": "Qq592wUNG2kv"
      },
      "execution_count": null,
      "outputs": []
    },
    {
      "cell_type": "code",
      "source": [
        "model.score(X_train,y_train)"
      ],
      "metadata": {
        "id": "TT2D7zYuHNy6"
      },
      "execution_count": null,
      "outputs": []
    },
    {
      "cell_type": "code",
      "source": [
        "# Create prediction for whole sample\n",
        "df_prediction = y.copy()\n",
        "df_prediction['predicted'] = model.predict(X)\n",
        "df_prediction"
      ],
      "metadata": {
        "id": "5btFXAjRIcGk"
      },
      "execution_count": null,
      "outputs": []
    },
    {
      "cell_type": "code",
      "source": [
        "fig = df_prediction.plot(kind = 'line', figsize = (15, 8))\n",
        "fig.axvline(x = '2022-04-30', color = 'black', dashes = (3, 2))\n",
        "fig"
      ],
      "metadata": {
        "id": "-YKSQRPDIrrk"
      },
      "execution_count": null,
      "outputs": []
    },
    {
      "cell_type": "markdown",
      "source": [
        "## Tes 2"
      ],
      "metadata": {
        "id": "ia5e9iAensch"
      }
    },
    {
      "cell_type": "code",
      "source": [
        "bottles_sold_per_day = df_fc.groupby(['date'])['bottles_sold'].sum()\n",
        "bottles_sold_per_day.plot(figsize=(16,6))"
      ],
      "metadata": {
        "id": "DjuaHv7fnyvC"
      },
      "execution_count": null,
      "outputs": []
    },
    {
      "cell_type": "code",
      "source": [
        "dates = pd.date_range(start = '2022-02-01', end = '2022-04-30')\n",
        "size = dates.size\n",
        "val = [0]*size\n",
        "bottles_sold_feb_to_april = pd.Series(val, index = dates)\n",
        "bottles_sold_feb_to_april"
      ],
      "metadata": {
        "id": "IhbBNwvKrQ4R"
      },
      "execution_count": null,
      "outputs": []
    },
    {
      "cell_type": "code",
      "source": [
        "bottle_sold_jan2021_to_april2022 = bottles_sold_per_day.append(bottles_sold_feb_to_april)"
      ],
      "metadata": {
        "id": "cp_KgO3IrZok"
      },
      "execution_count": null,
      "outputs": []
    },
    {
      "cell_type": "code",
      "source": [
        "size_for_train = (bottle_sold_jan2021_to_april2022.size)-size #excluding the prediction dates\n",
        "size_for_train\n",
        "index = (bottle_sold_jan2021_to_april2022.size) - size_for_train #first index of prediction date"
      ],
      "metadata": {
        "id": "qO-FVCDIrsel"
      },
      "execution_count": null,
      "outputs": []
    },
    {
      "cell_type": "code",
      "source": [
        "# Training dataset\n",
        "train = bottle_sold_jan2021_to_april2022.iloc[:size_for_train] #contains all dates from jan2021 - jan2022\n",
        "# Test dataset\n",
        "test = bottle_sold_jan2021_to_april2022.iloc[size_for_train:] #contains all dates from feb2022 - april2022"
      ],
      "metadata": {
        "id": "lm1-EH8Ir5pO"
      },
      "execution_count": null,
      "outputs": []
    },
    {
      "cell_type": "code",
      "source": [
        "model_SARIMA=SARIMAX(train,order=(3,0,5),seasonal_order=(1,0,1,12))"
      ],
      "metadata": {
        "id": "QRkjqRxIsCL1"
      },
      "execution_count": null,
      "outputs": []
    },
    {
      "cell_type": "code",
      "source": [
        "#fitting the sarimax model\n",
        "model_SARIMA_fit=model_SARIMA.fit()"
      ],
      "metadata": {
        "id": "3olYtq2rsbdS"
      },
      "execution_count": null,
      "outputs": []
    },
    {
      "cell_type": "code",
      "source": [
        "model_SARIMA_fit.summary()"
      ],
      "metadata": {
        "id": "o11LMk3ksgLN"
      },
      "execution_count": null,
      "outputs": []
    },
    {
      "cell_type": "code",
      "source": [
        "#Generating predictions using the SARIMAX model\n",
        "pred_Sarima=model_SARIMA_fit.predict(1, index)"
      ],
      "metadata": {
        "id": "0rHMNV4osot7"
      },
      "execution_count": null,
      "outputs": []
    },
    {
      "cell_type": "code",
      "source": [
        "plt.figure(figsize=(16,8))\n",
        "sns.lineplot(train.index, train.values, label='Actual')\n",
        "sns.lineplot(test.index, pred_Sarima , label='Predicted')\n",
        "#plt.ylim(0,180000)\n",
        "plt.ylabel(\"# of bottle sold\")\n",
        "plt.xlabel(\"date\")\n",
        "plt.title(\"Actual and Predicted values of # of bottles sold.\")"
      ],
      "metadata": {
        "id": "tbwqbr0Msr_j"
      },
      "execution_count": null,
      "outputs": []
    },
    {
      "cell_type": "code",
      "source": [],
      "metadata": {
        "id": "763xNqCIT-xf"
      },
      "execution_count": null,
      "outputs": []
    }
  ]
}